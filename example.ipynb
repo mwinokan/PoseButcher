{
 "cells": [
  {
   "cell_type": "markdown",
   "id": "281f95fa-f03b-4dbf-a956-6e70061e18fc",
   "metadata": {},
   "source": [
    "# PoseButcher Example\n",
    "\n",
    "> _A good butcher always trims the fat_\n",
    "\n",
    "PoseButcher is a tool for categorising and segmenting virtual hits with reference to experimental protein structures and (fragment) hits.\n",
    "\n",
    "This notebook is demonstrates the features of PoseButcher with crystal structures from the [Enteroviral 2A protease](https://fragalysis.diamond.ac.uk/viewer/react/preview/target/A71EV2A/tas/lb18145-1).\n",
    "\n",
    "### This example at a glance\n",
    "\n",
    "1. Create the **butcher**:\n",
    "\n",
    "2. **Chop** up a posed virtual hit (rdkit `Mol` with a conformer):\n",
    "\n",
    "3. **Tag** a compound based on its pocket occupancy and clashes:\n",
    "\n",
    "4. **Explore** the expansion opportunities from a given atom in a virtual hit\n",
    "\n",
    "5. (Coming soon) **Trim** a parts of a compound that clash with a protein or leave the crystal\n",
    "\n",
    "6. (Coming soon) **Score** how well a virtual hit recapitulates shape and colour of the fragment bolus"
   ]
  },
  {
   "cell_type": "markdown",
   "id": "684c8ef2-6258-4125-bd8e-5a90cb39dcab",
   "metadata": {},
   "source": [
    "## Imports"
   ]
  },
  {
   "cell_type": "code",
   "execution_count": null,
   "id": "9f4c9c4d-e935-4405-a0f1-747c2e08750b",
   "metadata": {},
   "outputs": [],
   "source": [
    "from posebutcher import PoseButcher\n",
    "from rdkit.Chem import PandasTools\n",
    "import pandas as pd\n",
    "import molparse as mp\n",
    "import plotly.express as px"
   ]
  },
  {
   "cell_type": "markdown",
   "id": "73a12772-ebbc-49f4-8b8d-8d7ccd049cfe",
   "metadata": {},
   "source": [
    "## 1. Create the butcher\n",
    "\n",
    "### Specify the protein template\n",
    "\n",
    "This must be a `str` or `pathlib.Path` to a reference protein structure. Non-protein atoms will automatically be ignored."
   ]
  },
  {
   "cell_type": "code",
   "execution_count": null,
   "id": "aaf002dc-74d3-43b3-9d1c-1a6c6ec1e988",
   "metadata": {},
   "outputs": [],
   "source": [
    "protein = 'test_data/2a_hits/A71EV2A-x0310_0A_bound.pdb'"
   ]
  },
  {
   "cell_type": "markdown",
   "id": "9b41fce1-f724-4552-8c12-ea6d87254c71",
   "metadata": {},
   "source": [
    "### Specify the reference fragments"
   ]
  },
  {
   "cell_type": "code",
   "execution_count": null,
   "id": "e2b4a620-dc56-4086-a32d-5f88ffc0eed3",
   "metadata": {},
   "outputs": [],
   "source": [
    "hits = 'test_data/2a_fragments.sdf'"
   ]
  },
  {
   "cell_type": "markdown",
   "id": "7337b0f4-1630-4ae3-9b5b-f0812b6b383f",
   "metadata": {},
   "source": [
    "### Define the catalytic/allosteric pockets\n",
    "\n",
    "Defining the pockets can be tricky, I suggest you use an external tool (PyMOL/Fragalysis) to pick the correct atoms.\n",
    "\n",
    "For now only spherical pockets are supported.\n",
    "\n",
    "In any case, pockets should be a `dict` with `str` keys and `dict` values. Below, spherical pockets are defined at the centre of mass of several atoms with a radius defined by the average distance from CoM to the atoms or a given value:"
   ]
  },
  {
   "cell_type": "code",
   "execution_count": null,
   "id": "bb377460-36ff-42d6-88d4-d7436af358f5",
   "metadata": {},
   "outputs": [],
   "source": [
    "pockets = {\n",
    "    \"P1\": dict(type='sphere', atoms=['GLY 127 O', 'PRO 107 CG', 'CYS 110 SG'], radius='mean'),\n",
    "    \"P2\": dict(type='sphere', atoms=['VAL 84 CG1', 'TYR 90 CD2', 'SER 87 CB'], radius='mean'),\n",
    "    \"P1'\": dict(type='sphere', atoms=['GLU 88 CB', 'PRO 107 CB', 'HIS 21 CD2'], radius='mean'),\n",
    "    \"P2'\": dict(type='sphere', atoms=['PRO 107 CB', 'LEU 22 CD1'], shift=[0, 0, 0], radius='mean'),\n",
    "    \"P3\": dict(type='sphere', atoms=['GLY 127 O', 'GLU 85 CB'], radius=4),\n",
    "    \"P4\": dict(type='sphere', atoms=['LEU 98 CD2'], radius=5),\n",
    "    \"P5\": dict(type='sphere', atoms=['ASN 129 ND2', 'ASN 129 ND2', 'ILE 82 CG2'], radius=4),\n",
    "    \"P6\": dict(type='sphere', atoms=['ILE 82 CG2'], shift=[-1,0,1], radius=4),\n",
    "}"
   ]
  },
  {
   "cell_type": "markdown",
   "id": "628cec4b-dde1-45ce-b507-09c880c5f6ef",
   "metadata": {},
   "source": [
    "N.B. Other options for radius are: 'min' or 'max' and shift can be used to manually move the centre of the pocket.\n",
    "\n",
    "### Create the butcher"
   ]
  },
  {
   "cell_type": "code",
   "execution_count": null,
   "id": "56cd0e4b-eebf-4de4-b5fe-9dd23c21eeeb",
   "metadata": {},
   "outputs": [],
   "source": [
    "butcher = PoseButcher(protein, hits, pockets)"
   ]
  },
  {
   "cell_type": "markdown",
   "id": "416c0cd1-2cef-46ec-8045-f816b9851cba",
   "metadata": {
    "tags": []
   },
   "source": [
    "### Render the resulting complex\n",
    "\n",
    "This will open an Open3d viewer of the various meshes. Useful features:\n",
    "\n",
    "* `Scene / Show Axis` Show the coordinate axes (x=red, y=blue, z=green)\n",
    "* `Geometries` Toggle visibility of different meshes"
   ]
  },
  {
   "cell_type": "code",
   "execution_count": null,
   "id": "e14a3988-1039-4cbf-bf81-391eb16d5c56",
   "metadata": {
    "tags": []
   },
   "outputs": [],
   "source": [
    "butcher.render()"
   ]
  },
  {
   "cell_type": "markdown",
   "id": "c30bdeba-1dc2-4cd2-9854-9447cf846e9f",
   "metadata": {},
   "source": [
    "## 2. Chop up a posed de novo compound\n",
    "\n",
    "In this case we are loading an SD file containing posed molecules"
   ]
  },
  {
   "cell_type": "code",
   "execution_count": null,
   "id": "47ab4eef-8efb-4685-bd3c-14061b2c8306",
   "metadata": {
    "tags": []
   },
   "outputs": [],
   "source": [
    "mol_df = PandasTools.LoadSDF('test_data/2a_compounds.sdf')\n",
    "mol = mol_df.iloc[45]['ROMol']\n",
    "mol._Name = mol_df.iloc[45]['ID']"
   ]
  },
  {
   "cell_type": "markdown",
   "id": "1ebc8ad4-7b13-43fc-9e0b-bf5ba421ee3c",
   "metadata": {},
   "source": [
    "Now we **chop** the molecule by pocket or protein/solvent clashes"
   ]
  },
  {
   "cell_type": "code",
   "execution_count": null,
   "id": "d78a77d7-08e4-4125-b6f3-5f9c5c9bd9a6",
   "metadata": {
    "tags": []
   },
   "outputs": [],
   "source": [
    "result = butcher.chop(mol, draw='3d')"
   ]
  },
  {
   "cell_type": "markdown",
   "id": "4cf8f2ef-d8f7-49e9-bb6e-7a0fc6136e32",
   "metadata": {
    "tags": []
   },
   "source": [
    "the result will be a dictionary with atom indices as keys:"
   ]
  },
  {
   "cell_type": "code",
   "execution_count": null,
   "id": "5a5e67f1-5835-47c6-acb3-f5a62f53c231",
   "metadata": {
    "tags": []
   },
   "outputs": [],
   "source": [
    "result"
   ]
  },
  {
   "cell_type": "markdown",
   "id": "06ccd2c2-7a02-4b68-81db-3914d818b162",
   "metadata": {
    "tags": []
   },
   "source": [
    "The compound can also be visualised in 3d or not at all with the option `draw=False`:"
   ]
  },
  {
   "cell_type": "code",
   "execution_count": null,
   "id": "8775e12e-29a3-48cf-8792-5c14f347d33e",
   "metadata": {},
   "outputs": [],
   "source": [
    "butcher.chop(mol, draw='3d');"
   ]
  },
  {
   "cell_type": "markdown",
   "id": "a92aa176-7ca7-4785-a1ea-8425fc0c1c5c",
   "metadata": {
    "tags": []
   },
   "source": [
    "If your ligand is an elaboration or expansion of a known **base** (parent) compound you can consider only the novel material:"
   ]
  },
  {
   "cell_type": "code",
   "execution_count": null,
   "id": "3f1dc819-57f9-48d3-a6c0-2f6d4b54e35a",
   "metadata": {
    "tags": []
   },
   "outputs": [],
   "source": [
    "butcher.chop(mol, base='C[C@H](NC(=O)/C(C#N))C(=O)Nc1cc[nH]n1')"
   ]
  },
  {
   "cell_type": "markdown",
   "id": "af2bcddf-8234-435f-9043-e88800de044e",
   "metadata": {},
   "source": [
    "## 3. Get a compound's tags\n",
    "\n",
    "If you want to use pockets to tag a compound but care which atoms use `butcher.tag`:"
   ]
  },
  {
   "cell_type": "code",
   "execution_count": null,
   "id": "a84b1b58-a186-406d-913a-14801dae9ada",
   "metadata": {
    "tags": []
   },
   "outputs": [],
   "source": [
    "butcher.tag(mol)"
   ]
  },
  {
   "cell_type": "code",
   "execution_count": null,
   "id": "7c624120-4d27-46af-846a-5fbeb860fe9b",
   "metadata": {
    "tags": []
   },
   "outputs": [],
   "source": [
    "butcher.tag(mol, pockets_only=True)"
   ]
  },
  {
   "cell_type": "markdown",
   "id": "c81a980d-cdf5-48cd-b0a6-71d21ab00f3d",
   "metadata": {},
   "source": [
    "The familiar `draw` options of `'2d'` and `'3d'` are still available, as is the `base` argument."
   ]
  },
  {
   "cell_type": "markdown",
   "id": "838dff58-34b5-48ba-b8f6-ad7e644d8623",
   "metadata": {},
   "source": [
    "## 4. Explore expansion vectors\n",
    "\n",
    "Posebutcher can categorise and score expansion opportunities from atoms in a ligand."
   ]
  },
  {
   "cell_type": "markdown",
   "id": "3e302847-0084-4c8b-8e85-3ac6d050dec2",
   "metadata": {},
   "source": [
    "`butcher.explore` can cast a ray from a given atom index:"
   ]
  },
  {
   "cell_type": "code",
   "execution_count": null,
   "id": "a448ad00-62e4-4486-8b87-51bf50a05f13",
   "metadata": {
    "tags": []
   },
   "outputs": [],
   "source": [
    "result = butcher.explore(mol, origin = 23)"
   ]
  },
  {
   "cell_type": "markdown",
   "id": "e2777fdd-8ac3-4b9f-b76f-97776fb14e80",
   "metadata": {},
   "source": [
    "N.B. you can use `mp.rdkit.draw_flat` to see the atom indices labelled:"
   ]
  },
  {
   "cell_type": "code",
   "execution_count": null,
   "id": "af3db7fd-f23b-4125-9711-14701155f699",
   "metadata": {
    "tags": []
   },
   "outputs": [],
   "source": [
    "mp.rdkit.draw_flat(mol, indices=True)"
   ]
  },
  {
   "cell_type": "markdown",
   "id": "a3d6ee10-f2ce-477d-b112-99e737b5b0e3",
   "metadata": {
    "tags": []
   },
   "source": [
    "The output from `butcher.explore` is a dictionary using the familiar classification from `butcher.chop`. \n",
    "\n",
    "e.g. `('BAD', 'protein clash')`. Important keys to note are:\n",
    "\n",
    "* 'origin': classification of the start of the vector\n",
    "* 'intersections': a dictionary of intersections the vector makes. The keys are distances in Angstrom. The values are the classification tuples.\n",
    "* 'first_intersection_distance': the distance at which the first intersection is made.\n",
    "* 'last_intersection_distance': the distance at which the final intersection is made (protein/solvent).\n",
    "* 'new_pocket': True if the vector explores a new pocket\n",
    "* 'destination': description of the end of the vector\n",
    "* 'max_atoms_added': an estimate for the number of heavy atoms that can be added\n"
   ]
  },
  {
   "cell_type": "code",
   "execution_count": null,
   "id": "3f66851c-811a-4264-ae1e-340cdd42c842",
   "metadata": {
    "tags": []
   },
   "outputs": [],
   "source": [
    "result"
   ]
  },
  {
   "cell_type": "markdown",
   "id": "0fcfb732-8d31-4f39-923b-3181583745d6",
   "metadata": {
    "tags": []
   },
   "source": [
    "`butcher.explore` can also explore all vectors in an atom (atoms bonded to fewer than 3 other atoms)"
   ]
  },
  {
   "cell_type": "code",
   "execution_count": null,
   "id": "93e748a9-cf39-472c-b86d-c50c266b3784",
   "metadata": {
    "tags": []
   },
   "outputs": [],
   "source": [
    "result = butcher.explore(mol)"
   ]
  },
  {
   "cell_type": "markdown",
   "id": "90bc1115-38d8-46ee-9413-6b91f6f83778",
   "metadata": {},
   "source": [
    "The result is a list of the single origin outputs (dictionaries).\n",
    "\n",
    "It may be useful to view the results as a DataFrame or with plotly:"
   ]
  },
  {
   "cell_type": "code",
   "execution_count": null,
   "id": "fa21b063-356d-4cdf-9aed-d67683e94daf",
   "metadata": {
    "tags": []
   },
   "outputs": [],
   "source": [
    "pd.DataFrame(result)"
   ]
  },
  {
   "cell_type": "code",
   "execution_count": null,
   "id": "7058e2f3-f179-4bfe-bf29-c35774192dc1",
   "metadata": {
    "tags": []
   },
   "outputs": [],
   "source": [
    "px.bar(result, color='new_pocket', x='atom_index', y='last_intersection_distance')"
   ]
  },
  {
   "cell_type": "code",
   "execution_count": null,
   "id": "fa654378-88c8-4b39-8104-6423c1be2154",
   "metadata": {},
   "outputs": [],
   "source": []
  }
 ],
 "metadata": {
  "kernelspec": {
   "display_name": "Python 3 (ipykernel)",
   "language": "python",
   "name": "python3"
  },
  "language_info": {
   "codemirror_mode": {
    "name": "ipython",
    "version": 3
   },
   "file_extension": ".py",
   "mimetype": "text/x-python",
   "name": "python",
   "nbconvert_exporter": "python",
   "pygments_lexer": "ipython3",
   "version": "3.10.12"
  }
 },
 "nbformat": 4,
 "nbformat_minor": 5
}
