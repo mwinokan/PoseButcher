{
 "cells": [
  {
   "cell_type": "code",
   "execution_count": 1,
   "id": "997c000a-353f-4958-a778-dbad238896f4",
   "metadata": {},
   "outputs": [],
   "source": [
    "%load_ext autoreload"
   ]
  },
  {
   "cell_type": "code",
   "execution_count": 2,
   "id": "9f4c9c4d-e935-4405-a0f1-747c2e08750b",
   "metadata": {},
   "outputs": [],
   "source": [
    "%autoreload 2\n",
    "from posebutcher.o3d import *\n",
    "from posebutcher import PoseButcher\n",
    "from rdkit.Chem import PandasTools\n",
    "from pathlib import Path"
   ]
  },
  {
   "cell_type": "code",
   "execution_count": null,
   "id": "5790d275-b6ba-404e-8f99-4f0ecb7a73bf",
   "metadata": {},
   "outputs": [],
   "source": [
    "test_3spheres()"
   ]
  },
  {
   "cell_type": "markdown",
   "id": "8bd8e2d2-ddc5-47c7-aefe-5a2a113fee17",
   "metadata": {},
   "source": [
    "# Get the hits from bound PDB files so that they are aligned correctly!!!!"
   ]
  },
  {
   "cell_type": "code",
   "execution_count": 3,
   "id": "aaf002dc-74d3-43b3-9d1c-1a6c6ec1e988",
   "metadata": {},
   "outputs": [],
   "source": [
    "# protein = 'test_data/template.pdb'\n",
    "protein = 'test_data/hits/A71EV2A-x0310_0A_bound.pdb'"
   ]
  },
  {
   "cell_type": "code",
   "execution_count": 4,
   "id": "e2b4a620-dc56-4086-a32d-5f88ffc0eed3",
   "metadata": {},
   "outputs": [],
   "source": [
    "hits = 'test_data/filtered.sdf'\n",
    "# hits = Path('test_data/hits')"
   ]
  },
  {
   "cell_type": "code",
   "execution_count": 5,
   "id": "bb377460-36ff-42d6-88d4-d7436af358f5",
   "metadata": {},
   "outputs": [],
   "source": [
    "pockets = {}"
   ]
  },
  {
   "cell_type": "code",
   "execution_count": 6,
   "id": "56cd0e4b-eebf-4de4-b5fe-9dd23c21eeeb",
   "metadata": {},
   "outputs": [
    {
     "name": "stdout",
     "output_type": "stream",
     "text": [
      "parsing \u001b[38;5;11mtest_data/hits/A71EV2A-x0310_0A_bound.pdb\u001b[0m ... \u001b[0mDone.\u001b[0m\n"
     ]
    }
   ],
   "source": [
    "butcher = PoseButcher(protein,\n",
    "                      hits,\n",
    "                      pockets,\n",
    "                     )"
   ]
  },
  {
   "cell_type": "code",
   "execution_count": 141,
   "id": "d9fc94f2-9ea2-4e36-8da3-a42a096ebc38",
   "metadata": {},
   "outputs": [
    {
     "name": "stdout",
     "output_type": "stream",
     "text": [
      "\u001b[36mgroup\u001b[0m = Fragment Bolus\u001b[0m\u001b[95m \u001b[0m\u001b[0m           \n",
      "\u001b[36mgroup.com\u001b[0m[#=3] = [8.1041857, 11.651171, 24.675657]\u001b[0m\u001b[95m \u001b[0m\u001b[0m\n",
      "\u001b[36mmesh.com\u001b[0m[#=3] = [8.1041857, 11.651171, 24.675657]\u001b[0m\u001b[95m \u001b[0m\u001b[0m\n",
      "\u001b[36mgroup\u001b[0m = test_data/hits/A71EV2A-x0310_0A_bound\u001b[0m\u001b[95m \u001b[0m\u001b[0m\n",
      "\u001b[36mgroup.com\u001b[0m[#=3] = [14.825562, 7.2758105, 14.406223]\u001b[0m\u001b[95m \u001b[0m\u001b[0m\n",
      "\u001b[36mmesh.com\u001b[0m[#=3] = [14.825562, 7.2758105, 14.406223]\u001b[0m\u001b[95m \u001b[0m\u001b[0m\n"
     ]
    }
   ],
   "source": [
    "butcher._render_meshes(wireframe=False)"
   ]
  },
  {
   "cell_type": "code",
   "execution_count": 7,
   "id": "782decd0-38ec-41b0-88d7-5cd91e13c6df",
   "metadata": {},
   "outputs": [],
   "source": [
    "mol_df = PandasTools.LoadSDF('test_data/BBS_AMU_products_fragalysis.sdf')"
   ]
  },
  {
   "cell_type": "code",
   "execution_count": 8,
   "id": "0aa66539-956a-4d6d-bc4b-2f5aa744bfc2",
   "metadata": {},
   "outputs": [
    {
     "name": "stdout",
     "output_type": "stream",
     "text": [
      "BBS_AMU_033A\n"
     ]
    }
   ],
   "source": [
    "i = 45\n",
    "print(mol_df['ID'].values[i])\n",
    "mol = mol_df['ROMol'].values[i]\n",
    "mol._Name = mol_df['ID'].values[i]"
   ]
  },
  {
   "cell_type": "code",
   "execution_count": 10,
   "id": "d78a77d7-08e4-4125-b6f3-5f9c5c9bd9a6",
   "metadata": {},
   "outputs": [
    {
     "name": "stdout",
     "output_type": "stream",
     "text": [
      "\u001b[1mBBS_AMU_033A\u001b[0m\u001b[0m                                    \n"
     ]
    },
    {
     "data": {
      "image/svg+xml": [
       "<svg xmlns=\"http://www.w3.org/2000/svg\" xmlns:rdkit=\"http://www.rdkit.org/xml\" xmlns:xlink=\"http://www.w3.org/1999/xlink\" version=\"1.1\" baseProfile=\"full\" xml:space=\"preserve\" width=\"400px\" height=\"200px\" viewBox=\"0 0 400 200\">\n",
       "<!-- END OF HEADER -->\n",
       "<rect style=\"opacity:1.0;fill:#FFFFFF;stroke:none\" width=\"400.0\" height=\"200.0\" x=\"0.0\" y=\"0.0\"> </rect>\n",
       "<path class=\"bond-2 atom-2 atom-3\" d=\"M 232.0,106.2 L 261.2,115.5 L 262.1,119.4 L 259.1,122.1 L 229.9,112.9 Z\" style=\"fill:#FF0000;fill-rule:evenodd;fill-opacity:1;stroke:#FF0000;stroke-width:0.0px;stroke-linecap:butt;stroke-linejoin:miter;stroke-opacity:1;\"/>\n",
       "<path class=\"bond-3 atom-3 atom-4\" d=\"M 262.1,119.4 L 265.9,120.7 L 272.4,150.6 L 265.6,152.1 L 259.1,122.1 Z\" style=\"fill:#FF0000;fill-rule:evenodd;fill-opacity:1;stroke:#FF0000;stroke-width:0.0px;stroke-linecap:butt;stroke-linejoin:miter;stroke-opacity:1;\"/>\n",
       "<path class=\"bond-4 atom-3 atom-5\" d=\"M 282.4,96.2 L 286.2,97.4 L 287.1,101.4 L 265.9,120.7 L 262.1,119.4 L 261.2,115.5 Z\" style=\"fill:#FF0000;fill-rule:evenodd;fill-opacity:1;stroke:#FF0000;stroke-width:0.0px;stroke-linecap:butt;stroke-linejoin:miter;stroke-opacity:1;\"/>\n",
       "<path class=\"bond-5 atom-5 atom-6\" d=\"M 275.4,64.3 L 283.1,66.8 L 289.2,94.7 L 286.2,97.4 L 282.4,96.2 Z\" style=\"fill:#FF0000;fill-rule:evenodd;fill-opacity:1;stroke:#FF0000;stroke-width:0.0px;stroke-linecap:butt;stroke-linejoin:miter;stroke-opacity:1;\"/>\n",
       "<path class=\"bond-7 atom-5 atom-8\" d=\"M 289.2,94.7 L 316.5,103.4 L 318.2,111.3 L 287.1,101.4 L 286.2,97.4 Z\" style=\"fill:#FF0000;fill-rule:evenodd;fill-opacity:1;stroke:#FF0000;stroke-width:0.0px;stroke-linecap:butt;stroke-linejoin:miter;stroke-opacity:1;\"/>\n",
       "<path class=\"bond-6 atom-6 atom-7\" d=\"M 301.0,41.0 L 305.7,46.1 L 283.1,66.8 L 275.4,64.3 Z\" style=\"fill:#0000FF;fill-rule:evenodd;fill-opacity:1;stroke:#0000FF;stroke-width:0.0px;stroke-linecap:butt;stroke-linejoin:miter;stroke-opacity:1;\"/>\n",
       "<path class=\"bond-8 atom-8 atom-9\" d=\"M 338.4,83.4 L 341.5,85.4 L 343.1,88.6 L 318.2,111.3 L 316.5,103.4 Z\" style=\"fill:#FF0000;fill-rule:evenodd;fill-opacity:1;stroke:#FF0000;stroke-width:0.0px;stroke-linecap:butt;stroke-linejoin:miter;stroke-opacity:1;\"/>\n",
       "<path class=\"bond-9 atom-9 atom-10\" d=\"M 349.9,47.4 L 352.9,61.0 L 346.6,80.7 L 341.5,85.4 L 338.4,83.4 Z\" style=\"fill:#FF0000;fill-rule:evenodd;fill-opacity:1;stroke:#FF0000;stroke-width:0.0px;stroke-linecap:butt;stroke-linejoin:miter;stroke-opacity:1;\"/>\n",
       "<path class=\"bond-10 atom-9 atom-11\" d=\"M 366.7,76.3 L 380.0,80.5 L 343.1,88.6 L 341.5,85.4 L 346.6,80.7 Z\" style=\"fill:#FF0000;fill-rule:evenodd;fill-opacity:1;stroke:#FF0000;stroke-width:0.0px;stroke-linecap:butt;stroke-linejoin:miter;stroke-opacity:1;\"/>\n",
       "<path class=\"bond-11 atom-10 atom-11\" d=\"M 349.9,47.4 L 380.0,80.5 L 366.7,76.3 L 352.9,61.0 Z\" style=\"fill:#FF0000;fill-rule:evenodd;fill-opacity:1;stroke:#FF0000;stroke-width:0.0px;stroke-linecap:butt;stroke-linejoin:miter;stroke-opacity:1;\"/>\n",
       "<ellipse cx=\"230.9\" cy=\"104.4\" rx=\"6.5\" ry=\"13.7\" class=\"atom-2\" style=\"fill:#FF0000;fill-rule:evenodd;stroke:#FF0000;stroke-width:1.0px;stroke-linecap:butt;stroke-linejoin:miter;stroke-opacity:1\"/>\n",
       "<ellipse cx=\"262.1\" cy=\"119.4\" rx=\"6.5\" ry=\"6.5\" class=\"atom-3\" style=\"fill:#FF0000;fill-rule:evenodd;stroke:#FF0000;stroke-width:1.0px;stroke-linecap:butt;stroke-linejoin:miter;stroke-opacity:1\"/>\n",
       "<ellipse cx=\"273.4\" cy=\"151.4\" rx=\"12.1\" ry=\"6.7\" class=\"atom-4\" style=\"fill:#FF0000;fill-rule:evenodd;stroke:#FF0000;stroke-width:1.0px;stroke-linecap:butt;stroke-linejoin:miter;stroke-opacity:1\"/>\n",
       "<ellipse cx=\"286.2\" cy=\"97.4\" rx=\"6.5\" ry=\"6.5\" class=\"atom-5\" style=\"fill:#FF0000;fill-rule:evenodd;stroke:#FF0000;stroke-width:1.0px;stroke-linecap:butt;stroke-linejoin:miter;stroke-opacity:1\"/>\n",
       "<ellipse cx=\"279.2\" cy=\"65.5\" rx=\"6.5\" ry=\"6.5\" class=\"atom-6\" style=\"fill:#FF0000;fill-rule:evenodd;stroke:#FF0000;stroke-width:1.0px;stroke-linecap:butt;stroke-linejoin:miter;stroke-opacity:1\"/>\n",
       "<ellipse cx=\"310.8\" cy=\"45.9\" rx=\"15.5\" ry=\"9.8\" class=\"atom-7\" style=\"fill:#0000FF;fill-rule:evenodd;stroke:#0000FF;stroke-width:1.0px;stroke-linecap:butt;stroke-linejoin:miter;stroke-opacity:1\"/>\n",
       "<ellipse cx=\"317.3\" cy=\"107.3\" rx=\"6.5\" ry=\"6.5\" class=\"atom-8\" style=\"fill:#FF0000;fill-rule:evenodd;stroke:#FF0000;stroke-width:1.0px;stroke-linecap:butt;stroke-linejoin:miter;stroke-opacity:1\"/>\n",
       "<ellipse cx=\"341.5\" cy=\"85.4\" rx=\"6.5\" ry=\"6.5\" class=\"atom-9\" style=\"fill:#FF0000;fill-rule:evenodd;stroke:#FF0000;stroke-width:1.0px;stroke-linecap:butt;stroke-linejoin:miter;stroke-opacity:1\"/>\n",
       "<ellipse cx=\"351.4\" cy=\"54.2\" rx=\"6.5\" ry=\"6.5\" class=\"atom-10\" style=\"fill:#FF0000;fill-rule:evenodd;stroke:#FF0000;stroke-width:1.0px;stroke-linecap:butt;stroke-linejoin:miter;stroke-opacity:1\"/>\n",
       "<ellipse cx=\"373.4\" cy=\"78.4\" rx=\"6.5\" ry=\"6.5\" class=\"atom-11\" style=\"fill:#FF0000;fill-rule:evenodd;stroke:#FF0000;stroke-width:1.0px;stroke-linecap:butt;stroke-linejoin:miter;stroke-opacity:1\"/>\n",
       "<path class=\"bond-0 atom-1 atom-0\" d=\"M 207.8,135.0 L 207.3,135.1\" style=\"fill:none;fill-rule:evenodd;stroke:#000000;stroke-width:1.0px;stroke-linecap:butt;stroke-linejoin:miter;stroke-opacity:1\"/>\n",
       "<path class=\"bond-0 atom-1 atom-0\" d=\"M 208.9,138.5 L 207.8,138.7\" style=\"fill:none;fill-rule:evenodd;stroke:#000000;stroke-width:1.0px;stroke-linecap:butt;stroke-linejoin:miter;stroke-opacity:1\"/>\n",
       "<path class=\"bond-0 atom-1 atom-0\" d=\"M 209.9,142.0 L 208.3,142.3\" style=\"fill:none;fill-rule:evenodd;stroke:#000000;stroke-width:1.0px;stroke-linecap:butt;stroke-linejoin:miter;stroke-opacity:1\"/>\n",
       "<path class=\"bond-0 atom-1 atom-0\" d=\"M 211.0,145.5 L 208.8,145.9\" style=\"fill:none;fill-rule:evenodd;stroke:#000000;stroke-width:1.0px;stroke-linecap:butt;stroke-linejoin:miter;stroke-opacity:1\"/>\n",
       "<path class=\"bond-0 atom-1 atom-0\" d=\"M 212.0,149.0 L 209.4,149.5\" style=\"fill:none;fill-rule:evenodd;stroke:#000000;stroke-width:1.0px;stroke-linecap:butt;stroke-linejoin:miter;stroke-opacity:1\"/>\n",
       "<path class=\"bond-0 atom-1 atom-0\" d=\"M 213.1,152.4 L 209.9,153.1\" style=\"fill:none;fill-rule:evenodd;stroke:#000000;stroke-width:1.0px;stroke-linecap:butt;stroke-linejoin:miter;stroke-opacity:1\"/>\n",
       "<path class=\"bond-0 atom-1 atom-0\" d=\"M 214.1,155.9 L 210.4,156.7\" style=\"fill:none;fill-rule:evenodd;stroke:#000000;stroke-width:1.0px;stroke-linecap:butt;stroke-linejoin:miter;stroke-opacity:1\"/>\n",
       "<path class=\"bond-0 atom-1 atom-0\" d=\"M 215.1,159.4 L 210.9,160.4\" style=\"fill:none;fill-rule:evenodd;stroke:#000000;stroke-width:1.0px;stroke-linecap:butt;stroke-linejoin:miter;stroke-opacity:1\"/>\n",
       "<path class=\"bond-0 atom-1 atom-0\" d=\"M 216.2,162.9 L 211.4,164.0\" style=\"fill:none;fill-rule:evenodd;stroke:#000000;stroke-width:1.0px;stroke-linecap:butt;stroke-linejoin:miter;stroke-opacity:1\"/>\n",
       "<path class=\"bond-1 atom-2 atom-1\" d=\"M 226.4,113.7 L 216.6,122.6\" style=\"fill:none;fill-rule:evenodd;stroke:#0000FF;stroke-width:2.0px;stroke-linecap:butt;stroke-linejoin:miter;stroke-opacity:1\"/>\n",
       "<path class=\"bond-1 atom-2 atom-1\" d=\"M 216.6,122.6 L 206.8,131.5\" style=\"fill:none;fill-rule:evenodd;stroke:#000000;stroke-width:2.0px;stroke-linecap:butt;stroke-linejoin:miter;stroke-opacity:1\"/>\n",
       "<path class=\"bond-2 atom-3 atom-2\" d=\"M 262.1,119.4 L 248.8,115.2\" style=\"fill:none;fill-rule:evenodd;stroke:#000000;stroke-width:2.0px;stroke-linecap:butt;stroke-linejoin:miter;stroke-opacity:1\"/>\n",
       "<path class=\"bond-2 atom-3 atom-2\" d=\"M 248.8,115.2 L 235.5,111.0\" style=\"fill:none;fill-rule:evenodd;stroke:#0000FF;stroke-width:2.0px;stroke-linecap:butt;stroke-linejoin:miter;stroke-opacity:1\"/>\n",
       "<path class=\"bond-3 atom-3 atom-4\" d=\"M 263.2,122.9 L 262.5,123.1\" style=\"fill:none;fill-rule:evenodd;stroke:#000000;stroke-width:1.0px;stroke-linecap:butt;stroke-linejoin:miter;stroke-opacity:1\"/>\n",
       "<path class=\"bond-3 atom-3 atom-4\" d=\"M 264.3,126.5 L 262.9,126.8\" style=\"fill:none;fill-rule:evenodd;stroke:#000000;stroke-width:1.0px;stroke-linecap:butt;stroke-linejoin:miter;stroke-opacity:1\"/>\n",
       "<path class=\"bond-3 atom-3 atom-4\" d=\"M 265.4,130.0 L 263.4,130.4\" style=\"fill:none;fill-rule:evenodd;stroke:#000000;stroke-width:1.0px;stroke-linecap:butt;stroke-linejoin:miter;stroke-opacity:1\"/>\n",
       "<path class=\"bond-3 atom-3 atom-4\" d=\"M 266.6,133.5 L 263.8,134.1\" style=\"fill:none;fill-rule:evenodd;stroke:#FF0000;stroke-width:1.0px;stroke-linecap:butt;stroke-linejoin:miter;stroke-opacity:1\"/>\n",
       "<path class=\"bond-3 atom-3 atom-4\" d=\"M 267.7,137.0 L 264.3,137.7\" style=\"fill:none;fill-rule:evenodd;stroke:#FF0000;stroke-width:1.0px;stroke-linecap:butt;stroke-linejoin:miter;stroke-opacity:1\"/>\n",
       "<path class=\"bond-3 atom-3 atom-4\" d=\"M 268.8,140.5 L 264.7,141.4\" style=\"fill:none;fill-rule:evenodd;stroke:#FF0000;stroke-width:1.0px;stroke-linecap:butt;stroke-linejoin:miter;stroke-opacity:1\"/>\n",
       "<path class=\"bond-3 atom-3 atom-4\" d=\"M 269.9,144.0 L 265.2,145.0\" style=\"fill:none;fill-rule:evenodd;stroke:#FF0000;stroke-width:1.0px;stroke-linecap:butt;stroke-linejoin:miter;stroke-opacity:1\"/>\n",
       "<path class=\"bond-4 atom-5 atom-3\" d=\"M 286.2,97.4 L 262.1,119.4\" style=\"fill:none;fill-rule:evenodd;stroke:#000000;stroke-width:2.0px;stroke-linecap:butt;stroke-linejoin:miter;stroke-opacity:1\"/>\n",
       "<path class=\"bond-5 atom-6 atom-5\" d=\"M 279.2,65.5 L 286.2,97.4\" style=\"fill:none;fill-rule:evenodd;stroke:#000000;stroke-width:2.0px;stroke-linecap:butt;stroke-linejoin:miter;stroke-opacity:1\"/>\n",
       "<path class=\"bond-6 atom-7 atom-6\" d=\"M 298.8,47.7 L 289.0,56.6\" style=\"fill:none;fill-rule:evenodd;stroke:#0000FF;stroke-width:2.0px;stroke-linecap:butt;stroke-linejoin:miter;stroke-opacity:1\"/>\n",
       "<path class=\"bond-6 atom-7 atom-6\" d=\"M 289.0,56.6 L 279.2,65.5\" style=\"fill:none;fill-rule:evenodd;stroke:#000000;stroke-width:2.0px;stroke-linecap:butt;stroke-linejoin:miter;stroke-opacity:1\"/>\n",
       "<path class=\"bond-7 atom-8 atom-5\" d=\"M 317.3,107.3 L 286.2,97.4\" style=\"fill:none;fill-rule:evenodd;stroke:#000000;stroke-width:2.0px;stroke-linecap:butt;stroke-linejoin:miter;stroke-opacity:1\"/>\n",
       "<path class=\"bond-8 atom-9 atom-8\" d=\"M 338.6,87.6 L 339.0,88.0\" style=\"fill:none;fill-rule:evenodd;stroke:#000000;stroke-width:1.0px;stroke-linecap:butt;stroke-linejoin:miter;stroke-opacity:1\"/>\n",
       "<path class=\"bond-8 atom-9 atom-8\" d=\"M 335.7,89.8 L 336.5,90.7\" style=\"fill:none;fill-rule:evenodd;stroke:#000000;stroke-width:1.0px;stroke-linecap:butt;stroke-linejoin:miter;stroke-opacity:1\"/>\n",
       "<path class=\"bond-8 atom-9 atom-8\" d=\"M 332.8,92.0 L 334.0,93.4\" style=\"fill:none;fill-rule:evenodd;stroke:#000000;stroke-width:1.0px;stroke-linecap:butt;stroke-linejoin:miter;stroke-opacity:1\"/>\n",
       "<path class=\"bond-8 atom-9 atom-8\" d=\"M 329.9,94.2 L 331.6,96.0\" style=\"fill:none;fill-rule:evenodd;stroke:#000000;stroke-width:1.0px;stroke-linecap:butt;stroke-linejoin:miter;stroke-opacity:1\"/>\n",
       "<path class=\"bond-8 atom-9 atom-8\" d=\"M 327.0,96.4 L 329.1,98.7\" style=\"fill:none;fill-rule:evenodd;stroke:#000000;stroke-width:1.0px;stroke-linecap:butt;stroke-linejoin:miter;stroke-opacity:1\"/>\n",
       "<path class=\"bond-8 atom-9 atom-8\" d=\"M 324.1,98.6 L 326.6,101.4\" style=\"fill:none;fill-rule:evenodd;stroke:#000000;stroke-width:1.0px;stroke-linecap:butt;stroke-linejoin:miter;stroke-opacity:1\"/>\n",
       "<path class=\"bond-8 atom-9 atom-8\" d=\"M 321.3,100.9 L 324.1,104.0\" style=\"fill:none;fill-rule:evenodd;stroke:#000000;stroke-width:1.0px;stroke-linecap:butt;stroke-linejoin:miter;stroke-opacity:1\"/>\n",
       "<path class=\"bond-8 atom-9 atom-8\" d=\"M 318.4,103.1 L 321.7,106.7\" style=\"fill:none;fill-rule:evenodd;stroke:#000000;stroke-width:1.0px;stroke-linecap:butt;stroke-linejoin:miter;stroke-opacity:1\"/>\n",
       "<path class=\"bond-9 atom-10 atom-9\" d=\"M 351.4,54.2 L 341.5,85.4\" style=\"fill:none;fill-rule:evenodd;stroke:#000000;stroke-width:2.0px;stroke-linecap:butt;stroke-linejoin:miter;stroke-opacity:1\"/>\n",
       "<path class=\"bond-10 atom-11 atom-9\" d=\"M 373.4,78.4 L 341.5,85.4\" style=\"fill:none;fill-rule:evenodd;stroke:#000000;stroke-width:2.0px;stroke-linecap:butt;stroke-linejoin:miter;stroke-opacity:1\"/>\n",
       "<path class=\"bond-11 atom-11 atom-10\" d=\"M 373.4,78.4 L 351.4,54.2\" style=\"fill:none;fill-rule:evenodd;stroke:#000000;stroke-width:2.0px;stroke-linecap:butt;stroke-linejoin:miter;stroke-opacity:1\"/>\n",
       "<path class=\"bond-12 atom-12 atom-1\" d=\"M 175.7,121.6 L 206.8,131.5\" style=\"fill:none;fill-rule:evenodd;stroke:#000000;stroke-width:2.0px;stroke-linecap:butt;stroke-linejoin:miter;stroke-opacity:1\"/>\n",
       "<path class=\"bond-13 atom-12 atom-13\" d=\"M 173.4,124.2 L 172.9,123.7\" style=\"fill:none;fill-rule:evenodd;stroke:#000000;stroke-width:1.0px;stroke-linecap:butt;stroke-linejoin:miter;stroke-opacity:1\"/>\n",
       "<path class=\"bond-13 atom-12 atom-13\" d=\"M 171.1,126.8 L 170.1,125.7\" style=\"fill:none;fill-rule:evenodd;stroke:#000000;stroke-width:1.0px;stroke-linecap:butt;stroke-linejoin:miter;stroke-opacity:1\"/>\n",
       "<path class=\"bond-13 atom-12 atom-13\" d=\"M 168.8,129.3 L 167.4,127.8\" style=\"fill:none;fill-rule:evenodd;stroke:#000000;stroke-width:1.0px;stroke-linecap:butt;stroke-linejoin:miter;stroke-opacity:1\"/>\n",
       "<path class=\"bond-13 atom-12 atom-13\" d=\"M 166.5,131.9 L 164.6,129.8\" style=\"fill:none;fill-rule:evenodd;stroke:#FF0000;stroke-width:1.0px;stroke-linecap:butt;stroke-linejoin:miter;stroke-opacity:1\"/>\n",
       "<path class=\"bond-13 atom-12 atom-13\" d=\"M 164.2,134.5 L 161.8,131.9\" style=\"fill:none;fill-rule:evenodd;stroke:#FF0000;stroke-width:1.0px;stroke-linecap:butt;stroke-linejoin:miter;stroke-opacity:1\"/>\n",
       "<path class=\"bond-13 atom-12 atom-13\" d=\"M 161.9,137.0 L 159.1,133.9\" style=\"fill:none;fill-rule:evenodd;stroke:#FF0000;stroke-width:1.0px;stroke-linecap:butt;stroke-linejoin:miter;stroke-opacity:1\"/>\n",
       "<path class=\"bond-13 atom-12 atom-13\" d=\"M 159.6,139.6 L 156.3,136.0\" style=\"fill:none;fill-rule:evenodd;stroke:#FF0000;stroke-width:1.0px;stroke-linecap:butt;stroke-linejoin:miter;stroke-opacity:1\"/>\n",
       "<path class=\"bond-14 atom-14 atom-12\" d=\"M 170.0,95.4 L 172.8,108.5\" style=\"fill:none;fill-rule:evenodd;stroke:#0000FF;stroke-width:2.0px;stroke-linecap:butt;stroke-linejoin:miter;stroke-opacity:1\"/>\n",
       "<path class=\"bond-14 atom-14 atom-12\" d=\"M 172.8,108.5 L 175.7,121.6\" style=\"fill:none;fill-rule:evenodd;stroke:#000000;stroke-width:2.0px;stroke-linecap:butt;stroke-linejoin:miter;stroke-opacity:1\"/>\n",
       "<path class=\"bond-15 atom-15 atom-14\" d=\"M 137.6,79.8 L 150.7,82.7 L 149.9,85.0 Z\" style=\"fill:#000000;fill-rule:evenodd;fill-opacity:1;stroke:#000000;stroke-width:0.5px;stroke-linecap:butt;stroke-linejoin:miter;stroke-opacity:1;\"/>\n",
       "<path class=\"bond-15 atom-15 atom-14\" d=\"M 150.7,82.7 L 162.3,90.2 L 163.8,85.6 Z\" style=\"fill:#0000FF;fill-rule:evenodd;fill-opacity:1;stroke:#0000FF;stroke-width:0.5px;stroke-linecap:butt;stroke-linejoin:miter;stroke-opacity:1;\"/>\n",
       "<path class=\"bond-15 atom-15 atom-14\" d=\"M 150.7,82.7 L 149.9,85.0 L 162.3,90.2 Z\" style=\"fill:#0000FF;fill-rule:evenodd;fill-opacity:1;stroke:#0000FF;stroke-width:0.5px;stroke-linecap:butt;stroke-linejoin:miter;stroke-opacity:1;\"/>\n",
       "<path class=\"bond-16 atom-16 atom-15\" d=\"M 111.3,99.2 L 137.6,79.8\" style=\"fill:none;fill-rule:evenodd;stroke:#000000;stroke-width:2.0px;stroke-linecap:butt;stroke-linejoin:miter;stroke-opacity:1\"/>\n",
       "<path class=\"bond-17 atom-17 atom-16\" d=\"M 87.5,82.5 L 87.9,82.0\" style=\"fill:none;fill-rule:evenodd;stroke:#000000;stroke-width:1.0px;stroke-linecap:butt;stroke-linejoin:miter;stroke-opacity:1\"/>\n",
       "<path class=\"bond-17 atom-17 atom-16\" d=\"M 90.3,84.9 L 91.0,83.9\" style=\"fill:none;fill-rule:evenodd;stroke:#000000;stroke-width:1.0px;stroke-linecap:butt;stroke-linejoin:miter;stroke-opacity:1\"/>\n",
       "<path class=\"bond-17 atom-17 atom-16\" d=\"M 93.1,87.2 L 94.1,85.7\" style=\"fill:none;fill-rule:evenodd;stroke:#000000;stroke-width:1.0px;stroke-linecap:butt;stroke-linejoin:miter;stroke-opacity:1\"/>\n",
       "<path class=\"bond-17 atom-17 atom-16\" d=\"M 95.8,89.6 L 97.2,87.6\" style=\"fill:none;fill-rule:evenodd;stroke:#000000;stroke-width:1.0px;stroke-linecap:butt;stroke-linejoin:miter;stroke-opacity:1\"/>\n",
       "<path class=\"bond-17 atom-17 atom-16\" d=\"M 98.6,91.9 L 100.4,89.5\" style=\"fill:none;fill-rule:evenodd;stroke:#000000;stroke-width:1.0px;stroke-linecap:butt;stroke-linejoin:miter;stroke-opacity:1\"/>\n",
       "<path class=\"bond-17 atom-17 atom-16\" d=\"M 101.4,94.3 L 103.5,91.3\" style=\"fill:none;fill-rule:evenodd;stroke:#000000;stroke-width:1.0px;stroke-linecap:butt;stroke-linejoin:miter;stroke-opacity:1\"/>\n",
       "<path class=\"bond-17 atom-17 atom-16\" d=\"M 104.1,96.7 L 106.6,93.2\" style=\"fill:none;fill-rule:evenodd;stroke:#000000;stroke-width:1.0px;stroke-linecap:butt;stroke-linejoin:miter;stroke-opacity:1\"/>\n",
       "<path class=\"bond-17 atom-17 atom-16\" d=\"M 106.9,99.0 L 109.7,95.0\" style=\"fill:none;fill-rule:evenodd;stroke:#000000;stroke-width:1.0px;stroke-linecap:butt;stroke-linejoin:miter;stroke-opacity:1\"/>\n",
       "<path class=\"bond-18 atom-18 atom-17\" d=\"M 53.7,90.4 L 84.7,80.1\" style=\"fill:none;fill-rule:evenodd;stroke:#000000;stroke-width:2.0px;stroke-linecap:butt;stroke-linejoin:miter;stroke-opacity:1\"/>\n",
       "<path class=\"bond-19 atom-18 atom-19\" d=\"M 50.6,91.8 L 50.4,91.2\" style=\"fill:none;fill-rule:evenodd;stroke:#000000;stroke-width:1.0px;stroke-linecap:butt;stroke-linejoin:miter;stroke-opacity:1\"/>\n",
       "<path class=\"bond-19 atom-18 atom-19\" d=\"M 47.4,93.1 L 47.0,92.0\" style=\"fill:none;fill-rule:evenodd;stroke:#000000;stroke-width:1.0px;stroke-linecap:butt;stroke-linejoin:miter;stroke-opacity:1\"/>\n",
       "<path class=\"bond-19 atom-18 atom-19\" d=\"M 44.3,94.5 L 43.7,92.8\" style=\"fill:none;fill-rule:evenodd;stroke:#000000;stroke-width:1.0px;stroke-linecap:butt;stroke-linejoin:miter;stroke-opacity:1\"/>\n",
       "<path class=\"bond-19 atom-18 atom-19\" d=\"M 41.1,95.9 L 40.3,93.6\" style=\"fill:none;fill-rule:evenodd;stroke:#000000;stroke-width:1.0px;stroke-linecap:butt;stroke-linejoin:miter;stroke-opacity:1\"/>\n",
       "<path class=\"bond-19 atom-18 atom-19\" d=\"M 37.9,97.3 L 37.0,94.4\" style=\"fill:none;fill-rule:evenodd;stroke:#33CCCC;stroke-width:1.0px;stroke-linecap:butt;stroke-linejoin:miter;stroke-opacity:1\"/>\n",
       "<path class=\"bond-19 atom-18 atom-19\" d=\"M 34.8,98.6 L 33.6,95.1\" style=\"fill:none;fill-rule:evenodd;stroke:#33CCCC;stroke-width:1.0px;stroke-linecap:butt;stroke-linejoin:miter;stroke-opacity:1\"/>\n",
       "<path class=\"bond-19 atom-18 atom-19\" d=\"M 31.6,100.0 L 30.2,95.9\" style=\"fill:none;fill-rule:evenodd;stroke:#33CCCC;stroke-width:1.0px;stroke-linecap:butt;stroke-linejoin:miter;stroke-opacity:1\"/>\n",
       "<path class=\"bond-19 atom-18 atom-19\" d=\"M 28.4,101.4 L 26.9,96.7\" style=\"fill:none;fill-rule:evenodd;stroke:#33CCCC;stroke-width:1.0px;stroke-linecap:butt;stroke-linejoin:miter;stroke-opacity:1\"/>\n",
       "<path class=\"bond-20 atom-20 atom-18\" d=\"M 45.4,65.1 L 49.6,77.8\" style=\"fill:none;fill-rule:evenodd;stroke:#33CCCC;stroke-width:2.0px;stroke-linecap:butt;stroke-linejoin:miter;stroke-opacity:1\"/>\n",
       "<path class=\"bond-20 atom-20 atom-18\" d=\"M 49.6,77.8 L 53.7,90.4\" style=\"fill:none;fill-rule:evenodd;stroke:#000000;stroke-width:2.0px;stroke-linecap:butt;stroke-linejoin:miter;stroke-opacity:1\"/>\n",
       "<path class=\"bond-21 atom-21 atom-18\" d=\"M 62.1,115.7 L 57.9,103.1\" style=\"fill:none;fill-rule:evenodd;stroke:#33CCCC;stroke-width:2.0px;stroke-linecap:butt;stroke-linejoin:miter;stroke-opacity:1\"/>\n",
       "<path class=\"bond-21 atom-21 atom-18\" d=\"M 57.9,103.1 L 53.7,90.4\" style=\"fill:none;fill-rule:evenodd;stroke:#000000;stroke-width:2.0px;stroke-linecap:butt;stroke-linejoin:miter;stroke-opacity:1\"/>\n",
       "<path class=\"bond-22 atom-22 atom-17\" d=\"M 92.8,54.7 L 88.8,67.4\" style=\"fill:none;fill-rule:evenodd;stroke:#0000FF;stroke-width:2.0px;stroke-linecap:butt;stroke-linejoin:miter;stroke-opacity:1\"/>\n",
       "<path class=\"bond-22 atom-22 atom-17\" d=\"M 88.8,67.4 L 84.7,80.1\" style=\"fill:none;fill-rule:evenodd;stroke:#000000;stroke-width:2.0px;stroke-linecap:butt;stroke-linejoin:miter;stroke-opacity:1\"/>\n",
       "<path class=\"bond-23 atom-23 atom-22\" d=\"M 122.7,48.8 L 99.2,49.0\" style=\"fill:none;fill-rule:evenodd;stroke:#0000FF;stroke-width:2.0px;stroke-linecap:butt;stroke-linejoin:miter;stroke-opacity:1\"/>\n",
       "<path class=\"bond-24 atom-23 atom-15\" d=\"M 129.2,54.5 L 133.4,67.2\" style=\"fill:none;fill-rule:evenodd;stroke:#0000FF;stroke-width:2.0px;stroke-linecap:butt;stroke-linejoin:miter;stroke-opacity:1\"/>\n",
       "<path class=\"bond-24 atom-23 atom-15\" d=\"M 133.4,67.2 L 137.6,79.8\" style=\"fill:none;fill-rule:evenodd;stroke:#000000;stroke-width:2.0px;stroke-linecap:butt;stroke-linejoin:miter;stroke-opacity:1\"/>\n",
       "<path d=\"M 207.3,131.1 L 206.8,131.5 L 205.2,131.0\" style=\"fill:none;stroke:#000000;stroke-width:2.0px;stroke-linecap:butt;stroke-linejoin:miter;stroke-opacity:1;\"/>\n",
       "<path d=\"M 261.4,119.2 L 262.1,119.4 L 263.3,118.3\" style=\"fill:none;stroke:#000000;stroke-width:2.0px;stroke-linecap:butt;stroke-linejoin:miter;stroke-opacity:1;\"/>\n",
       "<path d=\"M 279.6,67.1 L 279.2,65.5 L 279.7,65.1\" style=\"fill:none;stroke:#000000;stroke-width:2.0px;stroke-linecap:butt;stroke-linejoin:miter;stroke-opacity:1;\"/>\n",
       "<path d=\"M 342.0,83.8 L 341.5,85.4 L 343.1,85.0\" style=\"fill:none;stroke:#000000;stroke-width:2.0px;stroke-linecap:butt;stroke-linejoin:miter;stroke-opacity:1;\"/>\n",
       "<path d=\"M 350.9,55.8 L 351.4,54.2 L 352.5,55.4\" style=\"fill:none;stroke:#000000;stroke-width:2.0px;stroke-linecap:butt;stroke-linejoin:miter;stroke-opacity:1;\"/>\n",
       "<path d=\"M 371.8,78.7 L 373.4,78.4 L 372.3,77.2\" style=\"fill:none;stroke:#000000;stroke-width:2.0px;stroke-linecap:butt;stroke-linejoin:miter;stroke-opacity:1;\"/>\n",
       "<path d=\"M 177.2,122.1 L 175.7,121.6 L 175.5,121.0\" style=\"fill:none;stroke:#000000;stroke-width:2.0px;stroke-linecap:butt;stroke-linejoin:miter;stroke-opacity:1;\"/>\n",
       "<path d=\"M 136.3,80.8 L 137.6,79.8 L 137.4,79.2\" style=\"fill:none;stroke:#000000;stroke-width:2.0px;stroke-linecap:butt;stroke-linejoin:miter;stroke-opacity:1;\"/>\n",
       "<path d=\"M 83.2,80.6 L 84.7,80.1 L 84.9,79.5\" style=\"fill:none;stroke:#000000;stroke-width:2.0px;stroke-linecap:butt;stroke-linejoin:miter;stroke-opacity:1;\"/>\n",
       "<path class=\"atom-2\" d=\"M 228.9 104.9 L 231.9 109.8 Q 232.2 110.3, 232.7 111.2 Q 233.2 112.0, 233.2 112.1 L 233.2 104.9 L 234.5 104.9 L 234.5 114.2 L 233.2 114.2 L 229.9 108.8 Q 229.6 108.2, 229.1 107.5 Q 228.8 106.7, 228.6 106.5 L 228.6 114.2 L 227.4 114.2 L 227.4 104.9 L 228.9 104.9 \" fill=\"#0000FF\"/>\n",
       "<path class=\"atom-2\" d=\"M 227.3 94.7 L 228.6 94.7 L 228.6 98.7 L 233.3 98.7 L 233.3 94.7 L 234.6 94.7 L 234.6 104.0 L 233.3 104.0 L 233.3 99.7 L 228.6 99.7 L 228.6 104.0 L 227.3 104.0 L 227.3 94.7 \" fill=\"#0000FF\"/>\n",
       "<path class=\"atom-4\" d=\"M 264.8 151.4 Q 264.8 149.1, 265.9 147.9 Q 267.0 146.7, 269.0 146.7 Q 271.1 146.7, 272.2 147.9 Q 273.3 149.1, 273.3 151.4 Q 273.3 153.6, 272.2 154.9 Q 271.1 156.2, 269.0 156.2 Q 267.0 156.2, 265.9 154.9 Q 264.8 153.6, 264.8 151.4 M 269.0 155.1 Q 270.5 155.1, 271.2 154.2 Q 272.0 153.2, 272.0 151.4 Q 272.0 149.6, 271.2 148.6 Q 270.5 147.7, 269.0 147.7 Q 267.6 147.7, 266.9 148.6 Q 266.1 149.5, 266.1 151.4 Q 266.1 153.2, 266.9 154.2 Q 267.6 155.1, 269.0 155.1 \" fill=\"#FF0000\"/>\n",
       "<path class=\"atom-4\" d=\"M 274.7 146.8 L 276.0 146.8 L 276.0 150.7 L 280.7 150.7 L 280.7 146.8 L 282.0 146.8 L 282.0 156.0 L 280.7 156.0 L 280.7 151.7 L 276.0 151.7 L 276.0 156.0 L 274.7 156.0 L 274.7 146.8 \" fill=\"#FF0000\"/>\n",
       "<path class=\"atom-7\" d=\"M 301.3 38.9 L 304.3 43.8 Q 304.6 44.3, 305.1 45.2 Q 305.6 46.1, 305.6 46.1 L 305.6 38.9 L 306.9 38.9 L 306.9 48.2 L 305.6 48.2 L 302.3 42.8 Q 302.0 42.2, 301.6 41.5 Q 301.2 40.7, 301.1 40.5 L 301.1 48.2 L 299.9 48.2 L 299.9 38.9 L 301.3 38.9 \" fill=\"#0000FF\"/>\n",
       "<path class=\"atom-7\" d=\"M 308.6 38.9 L 309.9 38.9 L 309.9 42.9 L 314.6 42.9 L 314.6 38.9 L 315.9 38.9 L 315.9 48.2 L 314.6 48.2 L 314.6 43.9 L 309.9 43.9 L 309.9 48.2 L 308.6 48.2 L 308.6 38.9 \" fill=\"#0000FF\"/>\n",
       "<path class=\"atom-7\" d=\"M 317.7 47.8 Q 317.9 47.3, 318.4 46.9 Q 319.0 46.6, 319.7 46.6 Q 320.6 46.6, 321.2 47.1 Q 321.7 47.6, 321.7 48.5 Q 321.7 49.4, 321.0 50.3 Q 320.3 51.1, 319.0 52.1 L 321.8 52.1 L 321.8 52.8 L 317.7 52.8 L 317.7 52.2 Q 318.8 51.4, 319.5 50.8 Q 320.2 50.2, 320.5 49.7 Q 320.8 49.1, 320.8 48.5 Q 320.8 48.0, 320.5 47.6 Q 320.2 47.3, 319.7 47.3 Q 319.2 47.3, 318.9 47.5 Q 318.6 47.7, 318.3 48.1 L 317.7 47.8 \" fill=\"#0000FF\"/>\n",
       "<path class=\"atom-13\" d=\"M 138.2 139.0 L 139.4 139.0 L 139.4 143.0 L 144.2 143.0 L 144.2 139.0 L 145.4 139.0 L 145.4 148.3 L 144.2 148.3 L 144.2 144.0 L 139.4 144.0 L 139.4 148.3 L 138.2 148.3 L 138.2 139.0 \" fill=\"#FF0000\"/>\n",
       "<path class=\"atom-13\" d=\"M 147.3 143.6 Q 147.3 141.4, 148.4 140.2 Q 149.5 138.9, 151.5 138.9 Q 153.6 138.9, 154.7 140.2 Q 155.8 141.4, 155.8 143.6 Q 155.8 145.9, 154.7 147.2 Q 153.6 148.4, 151.5 148.4 Q 149.5 148.4, 148.4 147.2 Q 147.3 145.9, 147.3 143.6 M 151.5 147.4 Q 153.0 147.4, 153.7 146.5 Q 154.5 145.5, 154.5 143.6 Q 154.5 141.8, 153.7 140.9 Q 153.0 140.0, 151.5 140.0 Q 150.1 140.0, 149.4 140.9 Q 148.6 141.8, 148.6 143.6 Q 148.6 145.5, 149.4 146.5 Q 150.1 147.4, 151.5 147.4 \" fill=\"#FF0000\"/>\n",
       "<path class=\"atom-14\" d=\"M 166.7 85.1 L 169.7 90.0 Q 170.0 90.5, 170.5 91.4 Q 171.0 92.2, 171.0 92.3 L 171.0 85.1 L 172.2 85.1 L 172.2 94.3 L 170.9 94.3 L 167.7 89.0 Q 167.3 88.4, 166.9 87.6 Q 166.5 86.9, 166.4 86.7 L 166.4 94.3 L 165.2 94.3 L 165.2 85.1 L 166.7 85.1 \" fill=\"#0000FF\"/>\n",
       "<path class=\"atom-14\" d=\"M 174.0 85.1 L 175.3 85.1 L 175.3 89.0 L 180.0 89.0 L 180.0 85.1 L 181.2 85.1 L 181.2 94.3 L 180.0 94.3 L 180.0 90.1 L 175.3 90.1 L 175.3 94.3 L 174.0 94.3 L 174.0 85.1 \" fill=\"#0000FF\"/>\n",
       "<path class=\"atom-19\" d=\"M 20.0 96.1 L 25.5 96.1 L 25.5 97.1 L 21.2 97.1 L 21.2 99.9 L 25.0 99.9 L 25.0 101.0 L 21.2 101.0 L 21.2 105.3 L 20.0 105.3 L 20.0 96.1 \" fill=\"#33CCCC\"/>\n",
       "<path class=\"atom-20\" d=\"M 40.7 54.8 L 46.2 54.8 L 46.2 55.8 L 42.0 55.8 L 42.0 58.6 L 45.8 58.6 L 45.8 59.7 L 42.0 59.7 L 42.0 64.0 L 40.7 64.0 L 40.7 54.8 \" fill=\"#33CCCC\"/>\n",
       "<path class=\"atom-21\" d=\"M 61.3 116.8 L 66.8 116.8 L 66.8 117.8 L 62.5 117.8 L 62.5 120.6 L 66.3 120.6 L 66.3 121.7 L 62.5 121.7 L 62.5 126.0 L 61.3 126.0 L 61.3 116.8 \" fill=\"#33CCCC\"/>\n",
       "<path class=\"atom-22\" d=\"M 82.1 44.4 L 83.3 44.4 L 83.3 48.3 L 88.1 48.3 L 88.1 44.4 L 89.3 44.4 L 89.3 53.6 L 88.1 53.6 L 88.1 49.4 L 83.3 49.4 L 83.3 53.6 L 82.1 53.6 L 82.1 44.4 \" fill=\"#0000FF\"/>\n",
       "<path class=\"atom-22\" d=\"M 92.6 44.4 L 95.6 49.3 Q 95.9 49.8, 96.4 50.6 Q 96.9 51.5, 96.9 51.6 L 96.9 44.4 L 98.2 44.4 L 98.2 53.6 L 96.9 53.6 L 93.6 48.3 Q 93.3 47.6, 92.9 46.9 Q 92.5 46.2, 92.3 46.0 L 92.3 53.6 L 91.1 53.6 L 91.1 44.4 L 92.6 44.4 \" fill=\"#0000FF\"/>\n",
       "<path class=\"atom-23\" d=\"M 125.3 44.2 L 128.3 49.1 Q 128.6 49.6, 129.1 50.4 Q 129.6 51.3, 129.6 51.4 L 129.6 44.2 L 130.8 44.2 L 130.8 53.4 L 129.6 53.4 L 126.3 48.1 Q 125.9 47.5, 125.5 46.7 Q 125.1 46.0, 125.0 45.8 L 125.0 53.4 L 123.8 53.4 L 123.8 44.2 L 125.3 44.2 \" fill=\"#0000FF\"/>\n",
       "<path class=\"atom-23\" d=\"M 132.6 44.2 L 133.9 44.2 L 133.9 48.1 L 138.6 48.1 L 138.6 44.2 L 139.9 44.2 L 139.9 53.4 L 138.6 53.4 L 138.6 49.2 L 133.9 49.2 L 133.9 53.4 L 132.6 53.4 L 132.6 44.2 \" fill=\"#0000FF\"/>\n",
       "</svg>"
      ],
      "text/plain": [
       "<IPython.core.display.SVG object>"
      ]
     },
     "metadata": {},
     "output_type": "display_data"
    },
    {
     "data": {
      "text/plain": [
       "{0: ('GOOD', 'fragment space'),\n",
       " 1: ('GOOD', 'fragment space'),\n",
       " 2: ('BAD', 'protein clash'),\n",
       " 3: ('BAD', 'protein clash'),\n",
       " 4: ('BAD', 'protein clash'),\n",
       " 5: ('BAD', 'protein clash'),\n",
       " 6: ('BAD', 'protein clash'),\n",
       " 7: ('BAD', 'solvent space'),\n",
       " 8: ('BAD', 'protein clash'),\n",
       " 9: ('BAD', 'protein clash'),\n",
       " 10: ('BAD', 'protein clash'),\n",
       " 11: ('BAD', 'protein clash'),\n",
       " 12: ('GOOD', 'fragment space'),\n",
       " 13: ('GOOD', 'fragment space'),\n",
       " 14: ('GOOD', 'fragment space'),\n",
       " 15: ('GOOD', 'fragment space'),\n",
       " 16: ('GOOD', 'fragment space'),\n",
       " 17: ('GOOD', 'fragment space'),\n",
       " 18: ('GOOD', 'fragment space'),\n",
       " 19: ('GOOD', 'fragment space'),\n",
       " 20: ('GOOD', 'fragment space'),\n",
       " 21: ('GOOD', 'fragment space'),\n",
       " 22: ('GOOD', 'fragment space'),\n",
       " 23: ('GOOD', 'fragment space')}"
      ]
     },
     "execution_count": 10,
     "metadata": {},
     "output_type": "execute_result"
    }
   ],
   "source": [
    "butcher.chop(mol, draw='2d')"
   ]
  },
  {
   "cell_type": "code",
   "execution_count": 202,
   "id": "08b79902-5ca3-4f17-9054-97131a96a06b",
   "metadata": {
    "collapsed": true,
    "jupyter": {
     "outputs_hidden": true,
     "source_hidden": true
    }
   },
   "outputs": [
    {
     "name": "stdout",
     "output_type": "stream",
     "text": [
      "\u001b[36mgroup\u001b[0m = BBS_AMU_021A\u001b[0m\u001b[95m \u001b[0m\u001b[0m             \n",
      "\u001b[36mgroup.com\u001b[0m[#=3] = [4.8686250, 9.0537917, 26.973042]\u001b[0m\u001b[95m \u001b[0m\u001b[0m\n",
      "\u001b[36mmesh.com\u001b[0m[#=3] = [4.8686250, 9.0537917, 26.973042]\u001b[0m\u001b[95m \u001b[0m\u001b[0m\n"
     ]
    },
    {
     "data": {
      "text/plain": [
       "{0: ('BAD', 'protein clash'),\n",
       " 1: ('GOOD', 'fragment space'),\n",
       " 2: ('GOOD', 'fragment space'),\n",
       " 3: ('GOOD', 'fragment space'),\n",
       " 4: ('GOOD', 'fragment space'),\n",
       " 5: ('GOOD', 'fragment space'),\n",
       " 6: ('GOOD', 'fragment space'),\n",
       " 7: ('GOOD', 'fragment space'),\n",
       " 8: ('BAD', 'solvent space'),\n",
       " 9: ('BAD', 'solvent space'),\n",
       " 10: ('BAD', 'solvent space'),\n",
       " 11: ('BAD', 'solvent space'),\n",
       " 12: ('BAD', 'solvent space'),\n",
       " 13: ('BAD', 'solvent space'),\n",
       " 14: ('BAD', 'solvent space'),\n",
       " 15: ('BAD', 'solvent space'),\n",
       " 16: ('BAD', 'protein clash'),\n",
       " 17: ('GOOD', 'fragment space'),\n",
       " 18: ('GOOD', 'fragment space'),\n",
       " 19: ('GOOD', 'fragment space'),\n",
       " 20: ('GOOD', 'fragment space'),\n",
       " 21: ('GOOD', 'fragment space'),\n",
       " 22: ('GOOD', 'fragment space'),\n",
       " 23: ('GOOD', 'fragment space')}"
      ]
     },
     "execution_count": 202,
     "metadata": {},
     "output_type": "execute_result"
    }
   ],
   "source": [
    "butcher.chop(mol, draw='render')"
   ]
  },
  {
   "cell_type": "code",
   "execution_count": 16,
   "id": "653ae202-e2fc-456a-ad13-a7bb437ff986",
   "metadata": {},
   "outputs": [
    {
     "name": "stdout",
     "output_type": "stream",
     "text": [
      "BBS_AMU_049A\n"
     ]
    }
   ],
   "source": [
    "i = 76\n",
    "print(mol_df['ID'].values[i])\n",
    "mol = mol_df['ROMol'].values[i]\n",
    "mol._Name = mol_df['ID'].values[i]"
   ]
  },
  {
   "cell_type": "code",
   "execution_count": 17,
   "id": "8f319c23-5743-432e-8be3-90155f606ed3",
   "metadata": {},
   "outputs": [
    {
     "name": "stdout",
     "output_type": "stream",
     "text": [
      "\u001b[1mBBS_AMU_049A\u001b[0m\u001b[0m                                    \n"
     ]
    },
    {
     "data": {
      "image/svg+xml": [
       "<svg xmlns=\"http://www.w3.org/2000/svg\" xmlns:rdkit=\"http://www.rdkit.org/xml\" xmlns:xlink=\"http://www.w3.org/1999/xlink\" version=\"1.1\" baseProfile=\"full\" xml:space=\"preserve\" width=\"400px\" height=\"200px\" viewBox=\"0 0 400 200\">\n",
       "<!-- END OF HEADER -->\n",
       "<rect style=\"opacity:1.0;fill:#FFFFFF;stroke:none\" width=\"400.0\" height=\"200.0\" x=\"0.0\" y=\"0.0\"> </rect>\n",
       "<ellipse cx=\"302.6\" cy=\"96.1\" rx=\"11.9\" ry=\"6.6\" class=\"atom-15\" style=\"fill:#FF0000;fill-rule:evenodd;stroke:#FF0000;stroke-width:1.0px;stroke-linecap:butt;stroke-linejoin:miter;stroke-opacity:1\"/>\n",
       "<ellipse cx=\"226.9\" cy=\"19.7\" rx=\"15.3\" ry=\"9.7\" class=\"atom-19\" style=\"fill:#FF0000;fill-rule:evenodd;stroke:#FF0000;stroke-width:1.0px;stroke-linecap:butt;stroke-linejoin:miter;stroke-opacity:1\"/>\n",
       "<path class=\"bond-0 atom-1 atom-0\" d=\"M 114.5,119.3 L 92.4,95.8 L 96.2,92.8 Z\" style=\"fill:#000000;fill-rule:evenodd;fill-opacity:1;stroke:#000000;stroke-width:0.5px;stroke-linecap:butt;stroke-linejoin:miter;stroke-opacity:1;\"/>\n",
       "<path class=\"bond-1 atom-2 atom-1\" d=\"M 105.2,143.7 L 109.9,131.5\" style=\"fill:none;fill-rule:evenodd;stroke:#0000FF;stroke-width:2.0px;stroke-linecap:butt;stroke-linejoin:miter;stroke-opacity:1\"/>\n",
       "<path class=\"bond-1 atom-2 atom-1\" d=\"M 109.9,131.5 L 114.5,119.3\" style=\"fill:none;fill-rule:evenodd;stroke:#000000;stroke-width:2.0px;stroke-linecap:butt;stroke-linejoin:miter;stroke-opacity:1\"/>\n",
       "<path class=\"bond-2 atom-3 atom-1\" d=\"M 146.3,114.2 L 114.5,119.3\" style=\"fill:none;fill-rule:evenodd;stroke:#000000;stroke-width:2.0px;stroke-linecap:butt;stroke-linejoin:miter;stroke-opacity:1\"/>\n",
       "<path class=\"bond-3 atom-3 atom-4\" d=\"M 147.2,110.8 L 147.9,111.0\" style=\"fill:none;fill-rule:evenodd;stroke:#000000;stroke-width:1.0px;stroke-linecap:butt;stroke-linejoin:miter;stroke-opacity:1\"/>\n",
       "<path class=\"bond-3 atom-3 atom-4\" d=\"M 148.2,107.4 L 149.4,107.9\" style=\"fill:none;fill-rule:evenodd;stroke:#000000;stroke-width:1.0px;stroke-linecap:butt;stroke-linejoin:miter;stroke-opacity:1\"/>\n",
       "<path class=\"bond-3 atom-3 atom-4\" d=\"M 149.1,103.9 L 151.0,104.7\" style=\"fill:none;fill-rule:evenodd;stroke:#000000;stroke-width:1.0px;stroke-linecap:butt;stroke-linejoin:miter;stroke-opacity:1\"/>\n",
       "<path class=\"bond-3 atom-3 atom-4\" d=\"M 150.0,100.5 L 152.6,101.5\" style=\"fill:none;fill-rule:evenodd;stroke:#FF0000;stroke-width:1.0px;stroke-linecap:butt;stroke-linejoin:miter;stroke-opacity:1\"/>\n",
       "<path class=\"bond-3 atom-3 atom-4\" d=\"M 151.0,97.1 L 154.2,98.3\" style=\"fill:none;fill-rule:evenodd;stroke:#FF0000;stroke-width:1.0px;stroke-linecap:butt;stroke-linejoin:miter;stroke-opacity:1\"/>\n",
       "<path class=\"bond-3 atom-3 atom-4\" d=\"M 151.9,93.6 L 155.8,95.1\" style=\"fill:none;fill-rule:evenodd;stroke:#FF0000;stroke-width:1.0px;stroke-linecap:butt;stroke-linejoin:miter;stroke-opacity:1\"/>\n",
       "<path class=\"bond-3 atom-3 atom-4\" d=\"M 152.9,90.2 L 157.4,91.9\" style=\"fill:none;fill-rule:evenodd;stroke:#FF0000;stroke-width:1.0px;stroke-linecap:butt;stroke-linejoin:miter;stroke-opacity:1\"/>\n",
       "<path class=\"bond-4 atom-5 atom-3\" d=\"M 162.0,133.6 L 154.1,123.9\" style=\"fill:none;fill-rule:evenodd;stroke:#0000FF;stroke-width:2.0px;stroke-linecap:butt;stroke-linejoin:miter;stroke-opacity:1\"/>\n",
       "<path class=\"bond-4 atom-5 atom-3\" d=\"M 154.1,123.9 L 146.3,114.2\" style=\"fill:none;fill-rule:evenodd;stroke:#000000;stroke-width:2.0px;stroke-linecap:butt;stroke-linejoin:miter;stroke-opacity:1\"/>\n",
       "<path class=\"bond-5 atom-6 atom-5\" d=\"M 198.2,134.1 L 185.4,137.4 L 185.0,135.0 Z\" style=\"fill:#000000;fill-rule:evenodd;fill-opacity:1;stroke:#000000;stroke-width:0.5px;stroke-linecap:butt;stroke-linejoin:miter;stroke-opacity:1;\"/>\n",
       "<path class=\"bond-5 atom-6 atom-5\" d=\"M 185.4,137.4 L 171.7,135.9 L 172.5,140.7 Z\" style=\"fill:#0000FF;fill-rule:evenodd;fill-opacity:1;stroke:#0000FF;stroke-width:0.5px;stroke-linecap:butt;stroke-linejoin:miter;stroke-opacity:1;\"/>\n",
       "<path class=\"bond-5 atom-6 atom-5\" d=\"M 185.4,137.4 L 185.0,135.0 L 171.7,135.9 Z\" style=\"fill:#0000FF;fill-rule:evenodd;fill-opacity:1;stroke:#0000FF;stroke-width:0.5px;stroke-linecap:butt;stroke-linejoin:miter;stroke-opacity:1;\"/>\n",
       "<path class=\"bond-6 atom-7 atom-6\" d=\"M 221.0,156.8 L 198.2,134.1\" style=\"fill:none;fill-rule:evenodd;stroke:#000000;stroke-width:2.0px;stroke-linecap:butt;stroke-linejoin:miter;stroke-opacity:1\"/>\n",
       "<path class=\"bond-7 atom-8 atom-7\" d=\"M 249.6,142.2 L 221.0,156.8\" style=\"fill:none;fill-rule:evenodd;stroke:#000000;stroke-width:2.0px;stroke-linecap:butt;stroke-linejoin:miter;stroke-opacity:1\"/>\n",
       "<path class=\"bond-8 atom-9 atom-8\" d=\"M 278.3,156.8 L 249.6,142.2\" style=\"fill:none;fill-rule:evenodd;stroke:#000000;stroke-width:2.0px;stroke-linecap:butt;stroke-linejoin:miter;stroke-opacity:1\"/>\n",
       "<path class=\"bond-9 atom-9 atom-10\" d=\"M 281.4,158.0 L 281.1,158.6\" style=\"fill:none;fill-rule:evenodd;stroke:#000000;stroke-width:1.0px;stroke-linecap:butt;stroke-linejoin:miter;stroke-opacity:1\"/>\n",
       "<path class=\"bond-9 atom-9 atom-10\" d=\"M 284.5,159.3 L 283.9,160.4\" style=\"fill:none;fill-rule:evenodd;stroke:#000000;stroke-width:1.0px;stroke-linecap:butt;stroke-linejoin:miter;stroke-opacity:1\"/>\n",
       "<path class=\"bond-9 atom-9 atom-10\" d=\"M 287.6,160.5 L 286.8,162.2\" style=\"fill:none;fill-rule:evenodd;stroke:#000000;stroke-width:1.0px;stroke-linecap:butt;stroke-linejoin:miter;stroke-opacity:1\"/>\n",
       "<path class=\"bond-9 atom-9 atom-10\" d=\"M 290.7,161.8 L 289.6,163.9\" style=\"fill:none;fill-rule:evenodd;stroke:#000000;stroke-width:1.0px;stroke-linecap:butt;stroke-linejoin:miter;stroke-opacity:1\"/>\n",
       "<path class=\"bond-9 atom-9 atom-10\" d=\"M 293.8,163.0 L 292.5,165.7\" style=\"fill:none;fill-rule:evenodd;stroke:#33CCCC;stroke-width:1.0px;stroke-linecap:butt;stroke-linejoin:miter;stroke-opacity:1\"/>\n",
       "<path class=\"bond-9 atom-9 atom-10\" d=\"M 296.9,164.3 L 295.3,167.5\" style=\"fill:none;fill-rule:evenodd;stroke:#33CCCC;stroke-width:1.0px;stroke-linecap:butt;stroke-linejoin:miter;stroke-opacity:1\"/>\n",
       "<path class=\"bond-9 atom-9 atom-10\" d=\"M 300.1,165.5 L 298.1,169.3\" style=\"fill:none;fill-rule:evenodd;stroke:#33CCCC;stroke-width:1.0px;stroke-linecap:butt;stroke-linejoin:miter;stroke-opacity:1\"/>\n",
       "<path class=\"bond-9 atom-9 atom-10\" d=\"M 303.2,166.8 L 301.0,171.1\" style=\"fill:none;fill-rule:evenodd;stroke:#33CCCC;stroke-width:1.0px;stroke-linecap:butt;stroke-linejoin:miter;stroke-opacity:1\"/>\n",
       "<path class=\"bond-10 atom-11 atom-9\" d=\"M 266.5,179.8 L 272.4,168.3\" style=\"fill:none;fill-rule:evenodd;stroke:#33CCCC;stroke-width:2.0px;stroke-linecap:butt;stroke-linejoin:miter;stroke-opacity:1\"/>\n",
       "<path class=\"bond-10 atom-11 atom-9\" d=\"M 272.4,168.3 L 278.3,156.8\" style=\"fill:none;fill-rule:evenodd;stroke:#000000;stroke-width:2.0px;stroke-linecap:butt;stroke-linejoin:miter;stroke-opacity:1\"/>\n",
       "<path class=\"bond-11 atom-12 atom-9\" d=\"M 290.0,133.8 L 284.1,145.3\" style=\"fill:none;fill-rule:evenodd;stroke:#33CCCC;stroke-width:2.0px;stroke-linecap:butt;stroke-linejoin:miter;stroke-opacity:1\"/>\n",
       "<path class=\"bond-11 atom-12 atom-9\" d=\"M 284.1,145.3 L 278.3,156.8\" style=\"fill:none;fill-rule:evenodd;stroke:#000000;stroke-width:2.0px;stroke-linecap:butt;stroke-linejoin:miter;stroke-opacity:1\"/>\n",
       "<path class=\"bond-12 atom-13 atom-8\" d=\"M 245.5,116.1 L 247.5,129.2\" style=\"fill:none;fill-rule:evenodd;stroke:#0000FF;stroke-width:2.0px;stroke-linecap:butt;stroke-linejoin:miter;stroke-opacity:1\"/>\n",
       "<path class=\"bond-12 atom-13 atom-8\" d=\"M 247.5,129.2 L 249.6,142.2\" style=\"fill:none;fill-rule:evenodd;stroke:#000000;stroke-width:2.0px;stroke-linecap:butt;stroke-linejoin:miter;stroke-opacity:1\"/>\n",
       "<path class=\"bond-13 atom-14 atom-13\" d=\"M 267.3,87.8 L 258.2,96.9\" style=\"fill:none;fill-rule:evenodd;stroke:#000000;stroke-width:2.0px;stroke-linecap:butt;stroke-linejoin:miter;stroke-opacity:1\"/>\n",
       "<path class=\"bond-13 atom-14 atom-13\" d=\"M 258.2,96.9 L 249.1,106.0\" style=\"fill:none;fill-rule:evenodd;stroke:#0000FF;stroke-width:2.0px;stroke-linecap:butt;stroke-linejoin:miter;stroke-opacity:1\"/>\n",
       "<path class=\"bond-14 atom-15 atom-14\" d=\"M 293.1,94.6 L 280.2,91.2\" style=\"fill:none;fill-rule:evenodd;stroke:#FF0000;stroke-width:2.0px;stroke-linecap:butt;stroke-linejoin:miter;stroke-opacity:1\"/>\n",
       "<path class=\"bond-14 atom-15 atom-14\" d=\"M 280.2,91.2 L 267.3,87.8\" style=\"fill:none;fill-rule:evenodd;stroke:#000000;stroke-width:2.0px;stroke-linecap:butt;stroke-linejoin:miter;stroke-opacity:1\"/>\n",
       "<path class=\"bond-15 atom-16 atom-14\" d=\"M 258.9,56.7 L 267.3,87.8\" style=\"fill:none;fill-rule:evenodd;stroke:#000000;stroke-width:2.0px;stroke-linecap:butt;stroke-linejoin:miter;stroke-opacity:1\"/>\n",
       "<path class=\"bond-16 atom-16 atom-17\" d=\"M 258.9,56.7 L 279.9,32.3 L 283.3,35.7 Z\" style=\"fill:#000000;fill-rule:evenodd;fill-opacity:1;stroke:#000000;stroke-width:0.5px;stroke-linecap:butt;stroke-linejoin:miter;stroke-opacity:1;\"/>\n",
       "<path class=\"bond-17 atom-18 atom-16\" d=\"M 227.9,48.4 L 258.9,56.7\" style=\"fill:none;fill-rule:evenodd;stroke:#000000;stroke-width:2.0px;stroke-linecap:butt;stroke-linejoin:miter;stroke-opacity:1\"/>\n",
       "<path class=\"bond-18 atom-19 atom-18\" d=\"M 221.1,23.0 L 224.5,35.7\" style=\"fill:none;fill-rule:evenodd;stroke:#0000FF;stroke-width:2.0px;stroke-linecap:butt;stroke-linejoin:miter;stroke-opacity:1\"/>\n",
       "<path class=\"bond-18 atom-19 atom-18\" d=\"M 224.5,35.7 L 227.9,48.4\" style=\"fill:none;fill-rule:evenodd;stroke:#000000;stroke-width:2.0px;stroke-linecap:butt;stroke-linejoin:miter;stroke-opacity:1\"/>\n",
       "<path class=\"bond-19 atom-20 atom-13\" d=\"M 217.3,106.2 L 240.1,109.8\" style=\"fill:none;fill-rule:evenodd;stroke:#0000FF;stroke-width:2.0px;stroke-linecap:butt;stroke-linejoin:miter;stroke-opacity:1\"/>\n",
       "<path class=\"bond-20 atom-20 atom-6\" d=\"M 210.0,111.1 L 204.1,122.6\" style=\"fill:none;fill-rule:evenodd;stroke:#0000FF;stroke-width:2.0px;stroke-linecap:butt;stroke-linejoin:miter;stroke-opacity:1\"/>\n",
       "<path class=\"bond-20 atom-20 atom-6\" d=\"M 204.1,122.6 L 198.2,134.1\" style=\"fill:none;fill-rule:evenodd;stroke:#000000;stroke-width:2.0px;stroke-linecap:butt;stroke-linejoin:miter;stroke-opacity:1\"/>\n",
       "<path d=\"M 114.3,119.9 L 114.5,119.3 L 116.1,119.0\" style=\"fill:none;stroke:#000000;stroke-width:2.0px;stroke-linecap:butt;stroke-linejoin:miter;stroke-opacity:1;\"/>\n",
       "<path d=\"M 144.7,114.5 L 146.3,114.2 L 146.7,114.7\" style=\"fill:none;stroke:#000000;stroke-width:2.0px;stroke-linecap:butt;stroke-linejoin:miter;stroke-opacity:1;\"/>\n",
       "<path d=\"M 199.4,135.3 L 198.2,134.1 L 198.5,133.6\" style=\"fill:none;stroke:#000000;stroke-width:2.0px;stroke-linecap:butt;stroke-linejoin:miter;stroke-opacity:1;\"/>\n",
       "<path d=\"M 219.9,155.7 L 221.0,156.8 L 222.4,156.1\" style=\"fill:none;stroke:#000000;stroke-width:2.0px;stroke-linecap:butt;stroke-linejoin:miter;stroke-opacity:1;\"/>\n",
       "<path d=\"M 259.4,58.3 L 258.9,56.7 L 257.4,56.3\" style=\"fill:none;stroke:#000000;stroke-width:2.0px;stroke-linecap:butt;stroke-linejoin:miter;stroke-opacity:1;\"/>\n",
       "<path d=\"M 229.4,48.8 L 227.9,48.4 L 227.7,47.8\" style=\"fill:none;stroke:#000000;stroke-width:2.0px;stroke-linecap:butt;stroke-linejoin:miter;stroke-opacity:1;\"/>\n",
       "<path class=\"atom-2\" d=\"M 85.5 144.7 L 86.7 144.7 L 86.7 148.6 L 91.3 148.6 L 91.3 144.7 L 92.6 144.7 L 92.6 153.8 L 91.3 153.8 L 91.3 149.6 L 86.7 149.6 L 86.7 153.8 L 85.5 153.8 L 85.5 144.7 \" fill=\"#0000FF\"/>\n",
       "<path class=\"atom-2\" d=\"M 94.4 153.5 Q 94.6 152.9, 95.1 152.6 Q 95.6 152.3, 96.4 152.3 Q 97.3 152.3, 97.8 152.8 Q 98.3 153.3, 98.3 154.2 Q 98.3 155.1, 97.6 155.9 Q 97.0 156.7, 95.6 157.7 L 98.4 157.7 L 98.4 158.4 L 94.3 158.4 L 94.3 157.8 Q 95.5 157.0, 96.1 156.4 Q 96.8 155.8, 97.1 155.3 Q 97.4 154.8, 97.4 154.2 Q 97.4 153.6, 97.2 153.3 Q 96.9 153.0, 96.4 153.0 Q 95.9 153.0, 95.6 153.2 Q 95.2 153.4, 95.0 153.8 L 94.4 153.5 \" fill=\"#0000FF\"/>\n",
       "<path class=\"atom-2\" d=\"M 101.0 144.7 L 104.0 149.6 Q 104.3 150.0, 104.8 150.9 Q 105.2 151.8, 105.3 151.8 L 105.3 144.7 L 106.5 144.7 L 106.5 153.8 L 105.2 153.8 L 102.0 148.6 Q 101.7 147.9, 101.3 147.2 Q 100.9 146.5, 100.8 146.3 L 100.8 153.8 L 99.6 153.8 L 99.6 144.7 L 101.0 144.7 \" fill=\"#0000FF\"/>\n",
       "<path class=\"atom-4\" d=\"M 153.6 84.2 Q 153.6 82.0, 154.7 80.8 Q 155.7 79.6, 157.8 79.6 Q 159.8 79.6, 160.9 80.8 Q 161.9 82.0, 161.9 84.2 Q 161.9 86.4, 160.8 87.7 Q 159.8 89.0, 157.8 89.0 Q 155.8 89.0, 154.7 87.7 Q 153.6 86.5, 153.6 84.2 M 157.8 87.9 Q 159.1 87.9, 159.9 87.0 Q 160.7 86.1, 160.7 84.2 Q 160.7 82.4, 159.9 81.5 Q 159.1 80.6, 157.8 80.6 Q 156.4 80.6, 155.6 81.5 Q 154.9 82.4, 154.9 84.2 Q 154.9 86.1, 155.6 87.0 Q 156.4 87.9, 157.8 87.9 \" fill=\"#FF0000\"/>\n",
       "<path class=\"atom-4\" d=\"M 163.4 79.7 L 164.6 79.7 L 164.6 83.6 L 169.2 83.6 L 169.2 79.7 L 170.5 79.7 L 170.5 88.8 L 169.2 88.8 L 169.2 84.6 L 164.6 84.6 L 164.6 88.8 L 163.4 88.8 L 163.4 79.7 \" fill=\"#FF0000\"/>\n",
       "<path class=\"atom-5\" d=\"M 154.1 134.6 L 155.4 134.6 L 155.4 138.5 L 160.0 138.5 L 160.0 134.6 L 161.3 134.6 L 161.3 143.7 L 160.0 143.7 L 160.0 139.5 L 155.4 139.5 L 155.4 143.7 L 154.1 143.7 L 154.1 134.6 \" fill=\"#0000FF\"/>\n",
       "<path class=\"atom-5\" d=\"M 164.5 134.6 L 167.5 139.5 Q 167.8 139.9, 168.2 140.8 Q 168.7 141.7, 168.8 141.7 L 168.8 134.6 L 170.0 134.6 L 170.0 143.7 L 168.7 143.7 L 165.5 138.5 Q 165.1 137.8, 164.7 137.1 Q 164.4 136.4, 164.2 136.2 L 164.2 143.7 L 163.1 143.7 L 163.1 134.6 L 164.5 134.6 \" fill=\"#0000FF\"/>\n",
       "<path class=\"atom-10\" d=\"M 304.2 166.8 L 309.6 166.8 L 309.6 167.9 L 305.4 167.9 L 305.4 170.6 L 309.1 170.6 L 309.1 171.7 L 305.4 171.7 L 305.4 175.9 L 304.2 175.9 L 304.2 166.8 \" fill=\"#33CCCC\"/>\n",
       "<path class=\"atom-11\" d=\"M 261.0 180.9 L 266.4 180.9 L 266.4 181.9 L 262.2 181.9 L 262.2 184.7 L 265.9 184.7 L 265.9 185.8 L 262.2 185.8 L 262.2 190.0 L 261.0 190.0 L 261.0 180.9 \" fill=\"#33CCCC\"/>\n",
       "<path class=\"atom-12\" d=\"M 290.1 123.6 L 295.5 123.6 L 295.5 124.6 L 291.3 124.6 L 291.3 127.4 L 295.1 127.4 L 295.1 128.5 L 291.3 128.5 L 291.3 132.7 L 290.1 132.7 L 290.1 123.6 \" fill=\"#33CCCC\"/>\n",
       "<path class=\"atom-13\" d=\"M 242.6 105.9 L 245.5 110.8 Q 245.8 111.2, 246.3 112.1 Q 246.8 113.0, 246.8 113.0 L 246.8 105.9 L 248.0 105.9 L 248.0 115.0 L 246.8 115.0 L 243.6 109.8 Q 243.2 109.2, 242.8 108.4 Q 242.4 107.7, 242.3 107.5 L 242.3 115.0 L 241.1 115.0 L 241.1 105.9 L 242.6 105.9 \" fill=\"#0000FF\"/>\n",
       "<path class=\"atom-15\" d=\"M 294.1 96.1 Q 294.1 93.9, 295.2 92.7 Q 296.3 91.4, 298.3 91.4 Q 300.3 91.4, 301.4 92.7 Q 302.5 93.9, 302.5 96.1 Q 302.5 98.3, 301.4 99.5 Q 300.3 100.8, 298.3 100.8 Q 296.3 100.8, 295.2 99.5 Q 294.1 98.3, 294.1 96.1 M 298.3 99.8 Q 299.7 99.8, 300.5 98.8 Q 301.2 97.9, 301.2 96.1 Q 301.2 94.3, 300.5 93.4 Q 299.7 92.5, 298.3 92.5 Q 296.9 92.5, 296.2 93.4 Q 295.4 94.3, 295.4 96.1 Q 295.4 97.9, 296.2 98.8 Q 296.9 99.8, 298.3 99.8 \" fill=\"#FF0000\"/>\n",
       "<path class=\"atom-15\" d=\"M 303.9 91.5 L 305.2 91.5 L 305.2 95.4 L 309.8 95.4 L 309.8 91.5 L 311.0 91.5 L 311.0 100.6 L 309.8 100.6 L 309.8 96.4 L 305.2 96.4 L 305.2 100.6 L 303.9 100.6 L 303.9 91.5 \" fill=\"#FF0000\"/>\n",
       "<path class=\"atom-19\" d=\"M 217.5 12.8 L 220.5 17.6 Q 220.8 18.1, 221.3 19.0 Q 221.8 19.8, 221.8 19.9 L 221.8 12.8 L 223.0 12.8 L 223.0 21.9 L 221.7 21.9 L 218.5 16.7 Q 218.2 16.0, 217.8 15.3 Q 217.4 14.6, 217.3 14.4 L 217.3 21.9 L 216.1 21.9 L 216.1 12.8 L 217.5 12.8 \" fill=\"#0000FF\"/>\n",
       "<path class=\"atom-19\" d=\"M 224.7 12.8 L 226.0 12.8 L 226.0 16.7 L 230.6 16.7 L 230.6 12.8 L 231.9 12.8 L 231.9 21.9 L 230.6 21.9 L 230.6 17.7 L 226.0 17.7 L 226.0 21.9 L 224.7 21.9 L 224.7 12.8 \" fill=\"#0000FF\"/>\n",
       "<path class=\"atom-19\" d=\"M 233.6 21.6 Q 233.9 21.0, 234.4 20.7 Q 234.9 20.4, 235.6 20.4 Q 236.5 20.4, 237.1 20.9 Q 237.6 21.4, 237.6 22.3 Q 237.6 23.2, 236.9 24.0 Q 236.3 24.8, 234.9 25.8 L 237.7 25.8 L 237.7 26.5 L 233.6 26.5 L 233.6 25.9 Q 234.7 25.1, 235.4 24.5 Q 236.1 23.9, 236.4 23.4 Q 236.7 22.9, 236.7 22.3 Q 236.7 21.7, 236.4 21.4 Q 236.1 21.1, 235.6 21.1 Q 235.2 21.1, 234.8 21.3 Q 234.5 21.5, 234.3 21.9 L 233.6 21.6 \" fill=\"#0000FF\"/>\n",
       "<path class=\"atom-20\" d=\"M 200.4 100.9 L 201.7 100.9 L 201.7 104.8 L 206.3 104.8 L 206.3 100.9 L 207.6 100.9 L 207.6 110.0 L 206.3 110.0 L 206.3 105.8 L 201.7 105.8 L 201.7 110.0 L 200.4 110.0 L 200.4 100.9 \" fill=\"#0000FF\"/>\n",
       "<path class=\"atom-20\" d=\"M 210.8 100.9 L 213.8 105.8 Q 214.1 106.2, 214.6 107.1 Q 215.0 108.0, 215.1 108.0 L 215.1 100.9 L 216.3 100.9 L 216.3 110.0 L 215.0 110.0 L 211.8 104.8 Q 211.4 104.1, 211.0 103.4 Q 210.7 102.7, 210.5 102.5 L 210.5 110.0 L 209.4 110.0 L 209.4 100.9 L 210.8 100.9 \" fill=\"#0000FF\"/>\n",
       "</svg>"
      ],
      "text/plain": [
       "<IPython.core.display.SVG object>"
      ]
     },
     "metadata": {},
     "output_type": "display_data"
    },
    {
     "data": {
      "text/plain": [
       "{0: ('GOOD', 'fragment space'),\n",
       " 1: ('GOOD', 'fragment space'),\n",
       " 2: ('GOOD', 'fragment space'),\n",
       " 3: ('GOOD', 'fragment space'),\n",
       " 4: ('GOOD', 'fragment space'),\n",
       " 5: ('GOOD', 'fragment space'),\n",
       " 6: ('GOOD', 'fragment space'),\n",
       " 7: ('GOOD', 'fragment space'),\n",
       " 8: ('GOOD', 'fragment space'),\n",
       " 9: ('GOOD', 'fragment space'),\n",
       " 10: ('GOOD', 'fragment space'),\n",
       " 11: ('GOOD', 'fragment space'),\n",
       " 12: ('GOOD', 'fragment space'),\n",
       " 13: ('GOOD', 'fragment space'),\n",
       " 14: ('GOOD', 'fragment space'),\n",
       " 15: ('BAD', 'protein clash'),\n",
       " 16: ('GOOD', 'fragment space'),\n",
       " 17: ('GOOD', 'fragment space'),\n",
       " 18: ('GOOD', 'fragment space'),\n",
       " 19: ('BAD', 'protein clash'),\n",
       " 20: ('GOOD', 'fragment space')}"
      ]
     },
     "execution_count": 17,
     "metadata": {},
     "output_type": "execute_result"
    }
   ],
   "source": [
    "butcher.chop(mol, draw='2d')"
   ]
  },
  {
   "cell_type": "code",
   "execution_count": 13,
   "id": "93924a19-5e57-49c0-9457-36fa5b09a643",
   "metadata": {},
   "outputs": [
    {
     "name": "stdout",
     "output_type": "stream",
     "text": [
      "\u001b[36mgroup\u001b[0m = BBS_AMU_038A\u001b[0m\u001b[95m \u001b[0m\u001b[0m             \n",
      "\u001b[36mgroup.com\u001b[0m[#=3] = [7.6107647, 12.146353, 25.091235]\u001b[0m\u001b[95m \u001b[0m\u001b[0m\n",
      "\u001b[36mmesh.com\u001b[0m[#=3] = [7.6107647, 12.146353, 25.091235]\u001b[0m\u001b[95m \u001b[0m\u001b[0m\n"
     ]
    },
    {
     "data": {
      "text/plain": [
       "{0: ('GOOD', 'fragment space'),\n",
       " 1: ('GOOD', 'fragment space'),\n",
       " 2: ('GOOD', 'fragment space'),\n",
       " 3: ('GOOD', 'fragment space'),\n",
       " 4: ('BAD', 'protein clash'),\n",
       " 5: ('GOOD', 'fragment space'),\n",
       " 6: ('GOOD', 'fragment space'),\n",
       " 7: ('GOOD', 'fragment space'),\n",
       " 8: ('BAD', 'solvent space'),\n",
       " 9: ('GOOD', 'fragment space'),\n",
       " 10: ('GOOD', 'fragment space'),\n",
       " 11: ('GOOD', 'fragment space'),\n",
       " 12: ('GOOD', 'fragment space'),\n",
       " 13: ('GOOD', 'fragment space'),\n",
       " 14: ('GOOD', 'fragment space'),\n",
       " 15: ('GOOD', 'fragment space'),\n",
       " 16: ('GOOD', 'fragment space')}"
      ]
     },
     "execution_count": 13,
     "metadata": {},
     "output_type": "execute_result"
    }
   ],
   "source": [
    "butcher.chop(mol, draw='render')"
   ]
  },
  {
   "cell_type": "code",
   "execution_count": null,
   "id": "6d66a0d2-060b-42fc-b57e-9b129e3dd8df",
   "metadata": {},
   "outputs": [],
   "source": []
  }
 ],
 "metadata": {
  "kernelspec": {
   "display_name": "Python 3 (ipykernel)",
   "language": "python",
   "name": "python3"
  },
  "language_info": {
   "codemirror_mode": {
    "name": "ipython",
    "version": 3
   },
   "file_extension": ".py",
   "mimetype": "text/x-python",
   "name": "python",
   "nbconvert_exporter": "python",
   "pygments_lexer": "ipython3",
   "version": "3.10.12"
  }
 },
 "nbformat": 4,
 "nbformat_minor": 5
}
