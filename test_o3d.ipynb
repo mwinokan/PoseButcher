{
 "cells": [
  {
   "cell_type": "code",
   "execution_count": 1,
   "id": "997c000a-353f-4958-a778-dbad238896f4",
   "metadata": {},
   "outputs": [],
   "source": [
    "%load_ext autoreload"
   ]
  },
  {
   "cell_type": "code",
   "execution_count": 2,
   "id": "9f4c9c4d-e935-4405-a0f1-747c2e08750b",
   "metadata": {},
   "outputs": [],
   "source": [
    "%autoreload 2\n",
    "from posebutcher.o3d import *\n",
    "from posebutcher import PoseButcher\n",
    "from rdkit.Chem import PandasTools\n",
    "from pathlib import Path"
   ]
  },
  {
   "cell_type": "code",
   "execution_count": 3,
   "id": "aaf002dc-74d3-43b3-9d1c-1a6c6ec1e988",
   "metadata": {},
   "outputs": [],
   "source": [
    "# protein = 'test_data/template.pdb'\n",
    "protein = 'test_data/hits/A71EV2A-x0310_0A_bound.pdb'"
   ]
  },
  {
   "cell_type": "code",
   "execution_count": 4,
   "id": "e2b4a620-dc56-4086-a32d-5f88ffc0eed3",
   "metadata": {},
   "outputs": [],
   "source": [
    "hits = 'test_data/filtered.sdf'\n",
    "# hits = Path('test_data/hits')"
   ]
  },
  {
   "cell_type": "code",
   "execution_count": 7,
   "id": "bb377460-36ff-42d6-88d4-d7436af358f5",
   "metadata": {},
   "outputs": [],
   "source": [
    "pockets = {\n",
    "    \"P1\":  dict(type='sphere', atoms=['GLY 127 O', 'PRO 107 CG', 'VAL 124 CG1'], radius='mean'),\n",
    "    \"P1'\": dict(type='sphere', atoms=['VAL 84 CG1', 'TYR 90 CD2', 'SER 87 CB'], radius='mean'),\n",
    "}"
   ]
  },
  {
   "cell_type": "code",
   "execution_count": 12,
   "id": "56cd0e4b-eebf-4de4-b5fe-9dd23c21eeeb",
   "metadata": {},
   "outputs": [
    {
     "name": "stdout",
     "output_type": "stream",
     "text": [
      "\u001b[1m\u001b[34m>>> \u001b[1mPoseButcher\u001b[0m\u001b[0m                        \n",
      "parsing \u001b[38;5;11mtest_data/hits/A71EV2A-x0310_0A_bound.pdb\u001b[0m ... \u001b[0mDone.\u001b[0m\n",
      "parsing \u001b[38;5;11mtest_data/filtered.sdf\u001b[0m ...\u001b[0m        Done.\u001b[0m\n",
      "\u001b[1mPocket \"P1\":\u001b[0m\u001b[0m                                    \n",
      "\u001b[36mcenter\u001b[0m[#=3] = [8.8026667, 10.032667, 23.867667]\u001b[0m\u001b[95m Å\u001b[0m\u001b[0m\n",
      "\u001b[36mradius\u001b[0m = 4.8636465\u001b[0m\u001b[95m Å\u001b[0m\u001b[0m              \n",
      "\u001b[1mPocket \"P1'\":\u001b[0m\u001b[0m                                   \n",
      "\u001b[36mcenter\u001b[0m[#=3] = [9.1570000, 16.792000, 20.445333]\u001b[0m\u001b[95m Å\u001b[0m\u001b[0m\n",
      "\u001b[36mradius\u001b[0m = 3.5845317\u001b[0m\u001b[95m Å\u001b[0m\u001b[0m              \n"
     ]
    }
   ],
   "source": [
    "butcher = PoseButcher(protein,\n",
    "                      hits,\n",
    "                      pockets,\n",
    "                     )"
   ]
  },
  {
   "cell_type": "code",
   "execution_count": 15,
   "id": "d9fc94f2-9ea2-4e36-8da3-a42a096ebc38",
   "metadata": {},
   "outputs": [
    {
     "data": {
      "text/plain": [
       "dict_keys(['P1', \"P1'\"])"
      ]
     },
     "execution_count": 15,
     "metadata": {},
     "output_type": "execute_result"
    }
   ],
   "source": [
    "butcher.pockets.keys()"
   ]
  },
  {
   "cell_type": "markdown",
   "id": "c30bdeba-1dc2-4cd2-9854-9447cf846e9f",
   "metadata": {},
   "source": [
    "# Test Molecules"
   ]
  },
  {
   "cell_type": "code",
   "execution_count": 16,
   "id": "782decd0-38ec-41b0-88d7-5cd91e13c6df",
   "metadata": {},
   "outputs": [],
   "source": [
    "mol_df = PandasTools.LoadSDF('test_data/BBS_AMU_products_fragalysis.sdf')"
   ]
  },
  {
   "cell_type": "code",
   "execution_count": 17,
   "id": "0aa66539-956a-4d6d-bc4b-2f5aa744bfc2",
   "metadata": {},
   "outputs": [
    {
     "name": "stdout",
     "output_type": "stream",
     "text": [
      "BBS_AMU_033A\n"
     ]
    }
   ],
   "source": [
    "i = 45\n",
    "print(mol_df['ID'].values[i])\n",
    "mol = mol_df['ROMol'].values[i]\n",
    "mol._Name = mol_df['ID'].values[i]"
   ]
  },
  {
   "cell_type": "code",
   "execution_count": 18,
   "id": "d78a77d7-08e4-4125-b6f3-5f9c5c9bd9a6",
   "metadata": {},
   "outputs": [
    {
     "name": "stdout",
     "output_type": "stream",
     "text": [
      "Generating fragment bolus mesh...\u001b[0m                       \n",
      "Generating protein mesh...\u001b[0m                              \n",
      "\u001b[1mBBS_AMU_033A\u001b[0m\u001b[0m                                    \n"
     ]
    },
    {
     "data": {
      "image/svg+xml": [
       "<svg xmlns=\"http://www.w3.org/2000/svg\" xmlns:rdkit=\"http://www.rdkit.org/xml\" xmlns:xlink=\"http://www.w3.org/1999/xlink\" version=\"1.1\" baseProfile=\"full\" xml:space=\"preserve\" width=\"400px\" height=\"200px\" viewBox=\"0 0 400 200\">\n",
       "<!-- END OF HEADER -->\n",
       "<rect style=\"opacity:1.0;fill:#FFFFFF;stroke:none\" width=\"400.0\" height=\"200.0\" x=\"0.0\" y=\"0.0\"> </rect>\n",
       "<path class=\"bond-2 atom-2 atom-3\" d=\"M 232.0,106.2 L 261.2,115.5 L 262.1,119.4 L 259.1,122.1 L 229.9,112.9 Z\" style=\"fill:#FF0000;fill-rule:evenodd;fill-opacity:1;stroke:#FF0000;stroke-width:0.0px;stroke-linecap:butt;stroke-linejoin:miter;stroke-opacity:1;\"/>\n",
       "<path class=\"bond-3 atom-3 atom-4\" d=\"M 262.1,119.4 L 265.9,120.7 L 272.4,150.6 L 265.6,152.1 L 259.1,122.1 Z\" style=\"fill:#FF0000;fill-rule:evenodd;fill-opacity:1;stroke:#FF0000;stroke-width:0.0px;stroke-linecap:butt;stroke-linejoin:miter;stroke-opacity:1;\"/>\n",
       "<path class=\"bond-4 atom-3 atom-5\" d=\"M 282.4,96.2 L 286.2,97.4 L 287.1,101.4 L 265.9,120.7 L 262.1,119.4 L 261.2,115.5 Z\" style=\"fill:#FF0000;fill-rule:evenodd;fill-opacity:1;stroke:#FF0000;stroke-width:0.0px;stroke-linecap:butt;stroke-linejoin:miter;stroke-opacity:1;\"/>\n",
       "<path class=\"bond-5 atom-5 atom-6\" d=\"M 275.4,64.3 L 283.1,66.8 L 289.2,94.7 L 286.2,97.4 L 282.4,96.2 Z\" style=\"fill:#0000FF;fill-rule:evenodd;fill-opacity:1;stroke:#0000FF;stroke-width:0.0px;stroke-linecap:butt;stroke-linejoin:miter;stroke-opacity:1;\"/>\n",
       "<path class=\"bond-7 atom-5 atom-8\" d=\"M 289.2,94.7 L 316.5,103.4 L 318.2,111.3 L 287.1,101.4 L 286.2,97.4 Z\" style=\"fill:#FF0000;fill-rule:evenodd;fill-opacity:1;stroke:#FF0000;stroke-width:0.0px;stroke-linecap:butt;stroke-linejoin:miter;stroke-opacity:1;\"/>\n",
       "<path class=\"bond-6 atom-6 atom-7\" d=\"M 301.0,41.0 L 305.7,46.1 L 283.1,66.8 L 275.4,64.3 Z\" style=\"fill:#0000FF;fill-rule:evenodd;fill-opacity:1;stroke:#0000FF;stroke-width:0.0px;stroke-linecap:butt;stroke-linejoin:miter;stroke-opacity:1;\"/>\n",
       "<path class=\"bond-8 atom-8 atom-9\" d=\"M 338.4,83.4 L 341.5,85.4 L 343.1,88.6 L 318.2,111.3 L 316.5,103.4 Z\" style=\"fill:#FF0000;fill-rule:evenodd;fill-opacity:1;stroke:#FF0000;stroke-width:0.0px;stroke-linecap:butt;stroke-linejoin:miter;stroke-opacity:1;\"/>\n",
       "<path class=\"bond-9 atom-9 atom-10\" d=\"M 349.9,47.4 L 352.9,61.0 L 346.6,80.7 L 341.5,85.4 L 338.4,83.4 Z\" style=\"fill:#FF0000;fill-rule:evenodd;fill-opacity:1;stroke:#FF0000;stroke-width:0.0px;stroke-linecap:butt;stroke-linejoin:miter;stroke-opacity:1;\"/>\n",
       "<path class=\"bond-10 atom-9 atom-11\" d=\"M 366.7,76.3 L 380.0,80.5 L 343.1,88.6 L 341.5,85.4 L 346.6,80.7 Z\" style=\"fill:#FF0000;fill-rule:evenodd;fill-opacity:1;stroke:#FF0000;stroke-width:0.0px;stroke-linecap:butt;stroke-linejoin:miter;stroke-opacity:1;\"/>\n",
       "<path class=\"bond-11 atom-10 atom-11\" d=\"M 349.9,47.4 L 380.0,80.5 L 366.7,76.3 L 352.9,61.0 Z\" style=\"fill:#FF0000;fill-rule:evenodd;fill-opacity:1;stroke:#FF0000;stroke-width:0.0px;stroke-linecap:butt;stroke-linejoin:miter;stroke-opacity:1;\"/>\n",
       "<ellipse cx=\"230.9\" cy=\"104.4\" rx=\"6.5\" ry=\"13.7\" class=\"atom-2\" style=\"fill:#FF0000;fill-rule:evenodd;stroke:#FF0000;stroke-width:1.0px;stroke-linecap:butt;stroke-linejoin:miter;stroke-opacity:1\"/>\n",
       "<ellipse cx=\"262.1\" cy=\"119.4\" rx=\"6.5\" ry=\"6.5\" class=\"atom-3\" style=\"fill:#FF0000;fill-rule:evenodd;stroke:#FF0000;stroke-width:1.0px;stroke-linecap:butt;stroke-linejoin:miter;stroke-opacity:1\"/>\n",
       "<ellipse cx=\"273.4\" cy=\"151.4\" rx=\"12.1\" ry=\"6.7\" class=\"atom-4\" style=\"fill:#FF0000;fill-rule:evenodd;stroke:#FF0000;stroke-width:1.0px;stroke-linecap:butt;stroke-linejoin:miter;stroke-opacity:1\"/>\n",
       "<ellipse cx=\"286.2\" cy=\"97.4\" rx=\"6.5\" ry=\"6.5\" class=\"atom-5\" style=\"fill:#FF0000;fill-rule:evenodd;stroke:#FF0000;stroke-width:1.0px;stroke-linecap:butt;stroke-linejoin:miter;stroke-opacity:1\"/>\n",
       "<ellipse cx=\"279.2\" cy=\"65.5\" rx=\"6.5\" ry=\"6.5\" class=\"atom-6\" style=\"fill:#0000FF;fill-rule:evenodd;stroke:#0000FF;stroke-width:1.0px;stroke-linecap:butt;stroke-linejoin:miter;stroke-opacity:1\"/>\n",
       "<ellipse cx=\"310.8\" cy=\"45.9\" rx=\"15.5\" ry=\"9.8\" class=\"atom-7\" style=\"fill:#0000FF;fill-rule:evenodd;stroke:#0000FF;stroke-width:1.0px;stroke-linecap:butt;stroke-linejoin:miter;stroke-opacity:1\"/>\n",
       "<ellipse cx=\"317.3\" cy=\"107.3\" rx=\"6.5\" ry=\"6.5\" class=\"atom-8\" style=\"fill:#FF0000;fill-rule:evenodd;stroke:#FF0000;stroke-width:1.0px;stroke-linecap:butt;stroke-linejoin:miter;stroke-opacity:1\"/>\n",
       "<ellipse cx=\"341.5\" cy=\"85.4\" rx=\"6.5\" ry=\"6.5\" class=\"atom-9\" style=\"fill:#FF0000;fill-rule:evenodd;stroke:#FF0000;stroke-width:1.0px;stroke-linecap:butt;stroke-linejoin:miter;stroke-opacity:1\"/>\n",
       "<ellipse cx=\"351.4\" cy=\"54.2\" rx=\"6.5\" ry=\"6.5\" class=\"atom-10\" style=\"fill:#FF0000;fill-rule:evenodd;stroke:#FF0000;stroke-width:1.0px;stroke-linecap:butt;stroke-linejoin:miter;stroke-opacity:1\"/>\n",
       "<ellipse cx=\"373.4\" cy=\"78.4\" rx=\"6.5\" ry=\"6.5\" class=\"atom-11\" style=\"fill:#FF0000;fill-rule:evenodd;stroke:#FF0000;stroke-width:1.0px;stroke-linecap:butt;stroke-linejoin:miter;stroke-opacity:1\"/>\n",
       "<path class=\"bond-0 atom-1 atom-0\" d=\"M 207.8,135.0 L 207.3,135.1\" style=\"fill:none;fill-rule:evenodd;stroke:#000000;stroke-width:1.0px;stroke-linecap:butt;stroke-linejoin:miter;stroke-opacity:1\"/>\n",
       "<path class=\"bond-0 atom-1 atom-0\" d=\"M 208.9,138.5 L 207.8,138.7\" style=\"fill:none;fill-rule:evenodd;stroke:#000000;stroke-width:1.0px;stroke-linecap:butt;stroke-linejoin:miter;stroke-opacity:1\"/>\n",
       "<path class=\"bond-0 atom-1 atom-0\" d=\"M 209.9,142.0 L 208.3,142.3\" style=\"fill:none;fill-rule:evenodd;stroke:#000000;stroke-width:1.0px;stroke-linecap:butt;stroke-linejoin:miter;stroke-opacity:1\"/>\n",
       "<path class=\"bond-0 atom-1 atom-0\" d=\"M 211.0,145.5 L 208.8,145.9\" style=\"fill:none;fill-rule:evenodd;stroke:#000000;stroke-width:1.0px;stroke-linecap:butt;stroke-linejoin:miter;stroke-opacity:1\"/>\n",
       "<path class=\"bond-0 atom-1 atom-0\" d=\"M 212.0,149.0 L 209.4,149.5\" style=\"fill:none;fill-rule:evenodd;stroke:#000000;stroke-width:1.0px;stroke-linecap:butt;stroke-linejoin:miter;stroke-opacity:1\"/>\n",
       "<path class=\"bond-0 atom-1 atom-0\" d=\"M 213.1,152.4 L 209.9,153.1\" style=\"fill:none;fill-rule:evenodd;stroke:#000000;stroke-width:1.0px;stroke-linecap:butt;stroke-linejoin:miter;stroke-opacity:1\"/>\n",
       "<path class=\"bond-0 atom-1 atom-0\" d=\"M 214.1,155.9 L 210.4,156.7\" style=\"fill:none;fill-rule:evenodd;stroke:#000000;stroke-width:1.0px;stroke-linecap:butt;stroke-linejoin:miter;stroke-opacity:1\"/>\n",
       "<path class=\"bond-0 atom-1 atom-0\" d=\"M 215.1,159.4 L 210.9,160.4\" style=\"fill:none;fill-rule:evenodd;stroke:#000000;stroke-width:1.0px;stroke-linecap:butt;stroke-linejoin:miter;stroke-opacity:1\"/>\n",
       "<path class=\"bond-0 atom-1 atom-0\" d=\"M 216.2,162.9 L 211.4,164.0\" style=\"fill:none;fill-rule:evenodd;stroke:#000000;stroke-width:1.0px;stroke-linecap:butt;stroke-linejoin:miter;stroke-opacity:1\"/>\n",
       "<path class=\"bond-1 atom-2 atom-1\" d=\"M 226.4,113.7 L 216.6,122.6\" style=\"fill:none;fill-rule:evenodd;stroke:#0000FF;stroke-width:2.0px;stroke-linecap:butt;stroke-linejoin:miter;stroke-opacity:1\"/>\n",
       "<path class=\"bond-1 atom-2 atom-1\" d=\"M 216.6,122.6 L 206.8,131.5\" style=\"fill:none;fill-rule:evenodd;stroke:#000000;stroke-width:2.0px;stroke-linecap:butt;stroke-linejoin:miter;stroke-opacity:1\"/>\n",
       "<path class=\"bond-2 atom-3 atom-2\" d=\"M 262.1,119.4 L 248.8,115.2\" style=\"fill:none;fill-rule:evenodd;stroke:#000000;stroke-width:2.0px;stroke-linecap:butt;stroke-linejoin:miter;stroke-opacity:1\"/>\n",
       "<path class=\"bond-2 atom-3 atom-2\" d=\"M 248.8,115.2 L 235.5,111.0\" style=\"fill:none;fill-rule:evenodd;stroke:#0000FF;stroke-width:2.0px;stroke-linecap:butt;stroke-linejoin:miter;stroke-opacity:1\"/>\n",
       "<path class=\"bond-3 atom-3 atom-4\" d=\"M 263.2,122.9 L 262.5,123.1\" style=\"fill:none;fill-rule:evenodd;stroke:#000000;stroke-width:1.0px;stroke-linecap:butt;stroke-linejoin:miter;stroke-opacity:1\"/>\n",
       "<path class=\"bond-3 atom-3 atom-4\" d=\"M 264.3,126.5 L 262.9,126.8\" style=\"fill:none;fill-rule:evenodd;stroke:#000000;stroke-width:1.0px;stroke-linecap:butt;stroke-linejoin:miter;stroke-opacity:1\"/>\n",
       "<path class=\"bond-3 atom-3 atom-4\" d=\"M 265.4,130.0 L 263.4,130.4\" style=\"fill:none;fill-rule:evenodd;stroke:#000000;stroke-width:1.0px;stroke-linecap:butt;stroke-linejoin:miter;stroke-opacity:1\"/>\n",
       "<path class=\"bond-3 atom-3 atom-4\" d=\"M 266.6,133.5 L 263.8,134.1\" style=\"fill:none;fill-rule:evenodd;stroke:#FF0000;stroke-width:1.0px;stroke-linecap:butt;stroke-linejoin:miter;stroke-opacity:1\"/>\n",
       "<path class=\"bond-3 atom-3 atom-4\" d=\"M 267.7,137.0 L 264.3,137.7\" style=\"fill:none;fill-rule:evenodd;stroke:#FF0000;stroke-width:1.0px;stroke-linecap:butt;stroke-linejoin:miter;stroke-opacity:1\"/>\n",
       "<path class=\"bond-3 atom-3 atom-4\" d=\"M 268.8,140.5 L 264.7,141.4\" style=\"fill:none;fill-rule:evenodd;stroke:#FF0000;stroke-width:1.0px;stroke-linecap:butt;stroke-linejoin:miter;stroke-opacity:1\"/>\n",
       "<path class=\"bond-3 atom-3 atom-4\" d=\"M 269.9,144.0 L 265.2,145.0\" style=\"fill:none;fill-rule:evenodd;stroke:#FF0000;stroke-width:1.0px;stroke-linecap:butt;stroke-linejoin:miter;stroke-opacity:1\"/>\n",
       "<path class=\"bond-4 atom-5 atom-3\" d=\"M 286.2,97.4 L 262.1,119.4\" style=\"fill:none;fill-rule:evenodd;stroke:#000000;stroke-width:2.0px;stroke-linecap:butt;stroke-linejoin:miter;stroke-opacity:1\"/>\n",
       "<path class=\"bond-5 atom-6 atom-5\" d=\"M 279.2,65.5 L 286.2,97.4\" style=\"fill:none;fill-rule:evenodd;stroke:#000000;stroke-width:2.0px;stroke-linecap:butt;stroke-linejoin:miter;stroke-opacity:1\"/>\n",
       "<path class=\"bond-6 atom-7 atom-6\" d=\"M 298.8,47.7 L 289.0,56.6\" style=\"fill:none;fill-rule:evenodd;stroke:#0000FF;stroke-width:2.0px;stroke-linecap:butt;stroke-linejoin:miter;stroke-opacity:1\"/>\n",
       "<path class=\"bond-6 atom-7 atom-6\" d=\"M 289.0,56.6 L 279.2,65.5\" style=\"fill:none;fill-rule:evenodd;stroke:#000000;stroke-width:2.0px;stroke-linecap:butt;stroke-linejoin:miter;stroke-opacity:1\"/>\n",
       "<path class=\"bond-7 atom-8 atom-5\" d=\"M 317.3,107.3 L 286.2,97.4\" style=\"fill:none;fill-rule:evenodd;stroke:#000000;stroke-width:2.0px;stroke-linecap:butt;stroke-linejoin:miter;stroke-opacity:1\"/>\n",
       "<path class=\"bond-8 atom-9 atom-8\" d=\"M 338.6,87.6 L 339.0,88.0\" style=\"fill:none;fill-rule:evenodd;stroke:#000000;stroke-width:1.0px;stroke-linecap:butt;stroke-linejoin:miter;stroke-opacity:1\"/>\n",
       "<path class=\"bond-8 atom-9 atom-8\" d=\"M 335.7,89.8 L 336.5,90.7\" style=\"fill:none;fill-rule:evenodd;stroke:#000000;stroke-width:1.0px;stroke-linecap:butt;stroke-linejoin:miter;stroke-opacity:1\"/>\n",
       "<path class=\"bond-8 atom-9 atom-8\" d=\"M 332.8,92.0 L 334.0,93.4\" style=\"fill:none;fill-rule:evenodd;stroke:#000000;stroke-width:1.0px;stroke-linecap:butt;stroke-linejoin:miter;stroke-opacity:1\"/>\n",
       "<path class=\"bond-8 atom-9 atom-8\" d=\"M 329.9,94.2 L 331.6,96.0\" style=\"fill:none;fill-rule:evenodd;stroke:#000000;stroke-width:1.0px;stroke-linecap:butt;stroke-linejoin:miter;stroke-opacity:1\"/>\n",
       "<path class=\"bond-8 atom-9 atom-8\" d=\"M 327.0,96.4 L 329.1,98.7\" style=\"fill:none;fill-rule:evenodd;stroke:#000000;stroke-width:1.0px;stroke-linecap:butt;stroke-linejoin:miter;stroke-opacity:1\"/>\n",
       "<path class=\"bond-8 atom-9 atom-8\" d=\"M 324.1,98.6 L 326.6,101.4\" style=\"fill:none;fill-rule:evenodd;stroke:#000000;stroke-width:1.0px;stroke-linecap:butt;stroke-linejoin:miter;stroke-opacity:1\"/>\n",
       "<path class=\"bond-8 atom-9 atom-8\" d=\"M 321.3,100.9 L 324.1,104.0\" style=\"fill:none;fill-rule:evenodd;stroke:#000000;stroke-width:1.0px;stroke-linecap:butt;stroke-linejoin:miter;stroke-opacity:1\"/>\n",
       "<path class=\"bond-8 atom-9 atom-8\" d=\"M 318.4,103.1 L 321.7,106.7\" style=\"fill:none;fill-rule:evenodd;stroke:#000000;stroke-width:1.0px;stroke-linecap:butt;stroke-linejoin:miter;stroke-opacity:1\"/>\n",
       "<path class=\"bond-9 atom-10 atom-9\" d=\"M 351.4,54.2 L 341.5,85.4\" style=\"fill:none;fill-rule:evenodd;stroke:#000000;stroke-width:2.0px;stroke-linecap:butt;stroke-linejoin:miter;stroke-opacity:1\"/>\n",
       "<path class=\"bond-10 atom-11 atom-9\" d=\"M 373.4,78.4 L 341.5,85.4\" style=\"fill:none;fill-rule:evenodd;stroke:#000000;stroke-width:2.0px;stroke-linecap:butt;stroke-linejoin:miter;stroke-opacity:1\"/>\n",
       "<path class=\"bond-11 atom-11 atom-10\" d=\"M 373.4,78.4 L 351.4,54.2\" style=\"fill:none;fill-rule:evenodd;stroke:#000000;stroke-width:2.0px;stroke-linecap:butt;stroke-linejoin:miter;stroke-opacity:1\"/>\n",
       "<path class=\"bond-12 atom-12 atom-1\" d=\"M 175.7,121.6 L 206.8,131.5\" style=\"fill:none;fill-rule:evenodd;stroke:#000000;stroke-width:2.0px;stroke-linecap:butt;stroke-linejoin:miter;stroke-opacity:1\"/>\n",
       "<path class=\"bond-13 atom-12 atom-13\" d=\"M 173.4,124.2 L 172.9,123.7\" style=\"fill:none;fill-rule:evenodd;stroke:#000000;stroke-width:1.0px;stroke-linecap:butt;stroke-linejoin:miter;stroke-opacity:1\"/>\n",
       "<path class=\"bond-13 atom-12 atom-13\" d=\"M 171.1,126.8 L 170.1,125.7\" style=\"fill:none;fill-rule:evenodd;stroke:#000000;stroke-width:1.0px;stroke-linecap:butt;stroke-linejoin:miter;stroke-opacity:1\"/>\n",
       "<path class=\"bond-13 atom-12 atom-13\" d=\"M 168.8,129.3 L 167.4,127.8\" style=\"fill:none;fill-rule:evenodd;stroke:#000000;stroke-width:1.0px;stroke-linecap:butt;stroke-linejoin:miter;stroke-opacity:1\"/>\n",
       "<path class=\"bond-13 atom-12 atom-13\" d=\"M 166.5,131.9 L 164.6,129.8\" style=\"fill:none;fill-rule:evenodd;stroke:#FF0000;stroke-width:1.0px;stroke-linecap:butt;stroke-linejoin:miter;stroke-opacity:1\"/>\n",
       "<path class=\"bond-13 atom-12 atom-13\" d=\"M 164.2,134.5 L 161.8,131.9\" style=\"fill:none;fill-rule:evenodd;stroke:#FF0000;stroke-width:1.0px;stroke-linecap:butt;stroke-linejoin:miter;stroke-opacity:1\"/>\n",
       "<path class=\"bond-13 atom-12 atom-13\" d=\"M 161.9,137.0 L 159.1,133.9\" style=\"fill:none;fill-rule:evenodd;stroke:#FF0000;stroke-width:1.0px;stroke-linecap:butt;stroke-linejoin:miter;stroke-opacity:1\"/>\n",
       "<path class=\"bond-13 atom-12 atom-13\" d=\"M 159.6,139.6 L 156.3,136.0\" style=\"fill:none;fill-rule:evenodd;stroke:#FF0000;stroke-width:1.0px;stroke-linecap:butt;stroke-linejoin:miter;stroke-opacity:1\"/>\n",
       "<path class=\"bond-14 atom-14 atom-12\" d=\"M 170.0,95.4 L 172.8,108.5\" style=\"fill:none;fill-rule:evenodd;stroke:#0000FF;stroke-width:2.0px;stroke-linecap:butt;stroke-linejoin:miter;stroke-opacity:1\"/>\n",
       "<path class=\"bond-14 atom-14 atom-12\" d=\"M 172.8,108.5 L 175.7,121.6\" style=\"fill:none;fill-rule:evenodd;stroke:#000000;stroke-width:2.0px;stroke-linecap:butt;stroke-linejoin:miter;stroke-opacity:1\"/>\n",
       "<path class=\"bond-15 atom-15 atom-14\" d=\"M 137.6,79.8 L 150.7,82.7 L 149.9,85.0 Z\" style=\"fill:#000000;fill-rule:evenodd;fill-opacity:1;stroke:#000000;stroke-width:0.5px;stroke-linecap:butt;stroke-linejoin:miter;stroke-opacity:1;\"/>\n",
       "<path class=\"bond-15 atom-15 atom-14\" d=\"M 150.7,82.7 L 162.3,90.2 L 163.8,85.6 Z\" style=\"fill:#0000FF;fill-rule:evenodd;fill-opacity:1;stroke:#0000FF;stroke-width:0.5px;stroke-linecap:butt;stroke-linejoin:miter;stroke-opacity:1;\"/>\n",
       "<path class=\"bond-15 atom-15 atom-14\" d=\"M 150.7,82.7 L 149.9,85.0 L 162.3,90.2 Z\" style=\"fill:#0000FF;fill-rule:evenodd;fill-opacity:1;stroke:#0000FF;stroke-width:0.5px;stroke-linecap:butt;stroke-linejoin:miter;stroke-opacity:1;\"/>\n",
       "<path class=\"bond-16 atom-16 atom-15\" d=\"M 111.3,99.2 L 137.6,79.8\" style=\"fill:none;fill-rule:evenodd;stroke:#000000;stroke-width:2.0px;stroke-linecap:butt;stroke-linejoin:miter;stroke-opacity:1\"/>\n",
       "<path class=\"bond-17 atom-17 atom-16\" d=\"M 87.5,82.5 L 87.9,82.0\" style=\"fill:none;fill-rule:evenodd;stroke:#000000;stroke-width:1.0px;stroke-linecap:butt;stroke-linejoin:miter;stroke-opacity:1\"/>\n",
       "<path class=\"bond-17 atom-17 atom-16\" d=\"M 90.3,84.9 L 91.0,83.9\" style=\"fill:none;fill-rule:evenodd;stroke:#000000;stroke-width:1.0px;stroke-linecap:butt;stroke-linejoin:miter;stroke-opacity:1\"/>\n",
       "<path class=\"bond-17 atom-17 atom-16\" d=\"M 93.1,87.2 L 94.1,85.7\" style=\"fill:none;fill-rule:evenodd;stroke:#000000;stroke-width:1.0px;stroke-linecap:butt;stroke-linejoin:miter;stroke-opacity:1\"/>\n",
       "<path class=\"bond-17 atom-17 atom-16\" d=\"M 95.8,89.6 L 97.2,87.6\" style=\"fill:none;fill-rule:evenodd;stroke:#000000;stroke-width:1.0px;stroke-linecap:butt;stroke-linejoin:miter;stroke-opacity:1\"/>\n",
       "<path class=\"bond-17 atom-17 atom-16\" d=\"M 98.6,91.9 L 100.4,89.5\" style=\"fill:none;fill-rule:evenodd;stroke:#000000;stroke-width:1.0px;stroke-linecap:butt;stroke-linejoin:miter;stroke-opacity:1\"/>\n",
       "<path class=\"bond-17 atom-17 atom-16\" d=\"M 101.4,94.3 L 103.5,91.3\" style=\"fill:none;fill-rule:evenodd;stroke:#000000;stroke-width:1.0px;stroke-linecap:butt;stroke-linejoin:miter;stroke-opacity:1\"/>\n",
       "<path class=\"bond-17 atom-17 atom-16\" d=\"M 104.1,96.7 L 106.6,93.2\" style=\"fill:none;fill-rule:evenodd;stroke:#000000;stroke-width:1.0px;stroke-linecap:butt;stroke-linejoin:miter;stroke-opacity:1\"/>\n",
       "<path class=\"bond-17 atom-17 atom-16\" d=\"M 106.9,99.0 L 109.7,95.0\" style=\"fill:none;fill-rule:evenodd;stroke:#000000;stroke-width:1.0px;stroke-linecap:butt;stroke-linejoin:miter;stroke-opacity:1\"/>\n",
       "<path class=\"bond-18 atom-18 atom-17\" d=\"M 53.7,90.4 L 84.7,80.1\" style=\"fill:none;fill-rule:evenodd;stroke:#000000;stroke-width:2.0px;stroke-linecap:butt;stroke-linejoin:miter;stroke-opacity:1\"/>\n",
       "<path class=\"bond-19 atom-18 atom-19\" d=\"M 50.6,91.8 L 50.4,91.2\" style=\"fill:none;fill-rule:evenodd;stroke:#000000;stroke-width:1.0px;stroke-linecap:butt;stroke-linejoin:miter;stroke-opacity:1\"/>\n",
       "<path class=\"bond-19 atom-18 atom-19\" d=\"M 47.4,93.1 L 47.0,92.0\" style=\"fill:none;fill-rule:evenodd;stroke:#000000;stroke-width:1.0px;stroke-linecap:butt;stroke-linejoin:miter;stroke-opacity:1\"/>\n",
       "<path class=\"bond-19 atom-18 atom-19\" d=\"M 44.3,94.5 L 43.7,92.8\" style=\"fill:none;fill-rule:evenodd;stroke:#000000;stroke-width:1.0px;stroke-linecap:butt;stroke-linejoin:miter;stroke-opacity:1\"/>\n",
       "<path class=\"bond-19 atom-18 atom-19\" d=\"M 41.1,95.9 L 40.3,93.6\" style=\"fill:none;fill-rule:evenodd;stroke:#000000;stroke-width:1.0px;stroke-linecap:butt;stroke-linejoin:miter;stroke-opacity:1\"/>\n",
       "<path class=\"bond-19 atom-18 atom-19\" d=\"M 37.9,97.3 L 37.0,94.4\" style=\"fill:none;fill-rule:evenodd;stroke:#33CCCC;stroke-width:1.0px;stroke-linecap:butt;stroke-linejoin:miter;stroke-opacity:1\"/>\n",
       "<path class=\"bond-19 atom-18 atom-19\" d=\"M 34.8,98.6 L 33.6,95.1\" style=\"fill:none;fill-rule:evenodd;stroke:#33CCCC;stroke-width:1.0px;stroke-linecap:butt;stroke-linejoin:miter;stroke-opacity:1\"/>\n",
       "<path class=\"bond-19 atom-18 atom-19\" d=\"M 31.6,100.0 L 30.2,95.9\" style=\"fill:none;fill-rule:evenodd;stroke:#33CCCC;stroke-width:1.0px;stroke-linecap:butt;stroke-linejoin:miter;stroke-opacity:1\"/>\n",
       "<path class=\"bond-19 atom-18 atom-19\" d=\"M 28.4,101.4 L 26.9,96.7\" style=\"fill:none;fill-rule:evenodd;stroke:#33CCCC;stroke-width:1.0px;stroke-linecap:butt;stroke-linejoin:miter;stroke-opacity:1\"/>\n",
       "<path class=\"bond-20 atom-20 atom-18\" d=\"M 45.4,65.1 L 49.6,77.8\" style=\"fill:none;fill-rule:evenodd;stroke:#33CCCC;stroke-width:2.0px;stroke-linecap:butt;stroke-linejoin:miter;stroke-opacity:1\"/>\n",
       "<path class=\"bond-20 atom-20 atom-18\" d=\"M 49.6,77.8 L 53.7,90.4\" style=\"fill:none;fill-rule:evenodd;stroke:#000000;stroke-width:2.0px;stroke-linecap:butt;stroke-linejoin:miter;stroke-opacity:1\"/>\n",
       "<path class=\"bond-21 atom-21 atom-18\" d=\"M 62.1,115.7 L 57.9,103.1\" style=\"fill:none;fill-rule:evenodd;stroke:#33CCCC;stroke-width:2.0px;stroke-linecap:butt;stroke-linejoin:miter;stroke-opacity:1\"/>\n",
       "<path class=\"bond-21 atom-21 atom-18\" d=\"M 57.9,103.1 L 53.7,90.4\" style=\"fill:none;fill-rule:evenodd;stroke:#000000;stroke-width:2.0px;stroke-linecap:butt;stroke-linejoin:miter;stroke-opacity:1\"/>\n",
       "<path class=\"bond-22 atom-22 atom-17\" d=\"M 92.8,54.7 L 88.8,67.4\" style=\"fill:none;fill-rule:evenodd;stroke:#0000FF;stroke-width:2.0px;stroke-linecap:butt;stroke-linejoin:miter;stroke-opacity:1\"/>\n",
       "<path class=\"bond-22 atom-22 atom-17\" d=\"M 88.8,67.4 L 84.7,80.1\" style=\"fill:none;fill-rule:evenodd;stroke:#000000;stroke-width:2.0px;stroke-linecap:butt;stroke-linejoin:miter;stroke-opacity:1\"/>\n",
       "<path class=\"bond-23 atom-23 atom-22\" d=\"M 122.7,48.8 L 99.2,49.0\" style=\"fill:none;fill-rule:evenodd;stroke:#0000FF;stroke-width:2.0px;stroke-linecap:butt;stroke-linejoin:miter;stroke-opacity:1\"/>\n",
       "<path class=\"bond-24 atom-23 atom-15\" d=\"M 129.2,54.5 L 133.4,67.2\" style=\"fill:none;fill-rule:evenodd;stroke:#0000FF;stroke-width:2.0px;stroke-linecap:butt;stroke-linejoin:miter;stroke-opacity:1\"/>\n",
       "<path class=\"bond-24 atom-23 atom-15\" d=\"M 133.4,67.2 L 137.6,79.8\" style=\"fill:none;fill-rule:evenodd;stroke:#000000;stroke-width:2.0px;stroke-linecap:butt;stroke-linejoin:miter;stroke-opacity:1\"/>\n",
       "<path d=\"M 207.3,131.1 L 206.8,131.5 L 205.2,131.0\" style=\"fill:none;stroke:#000000;stroke-width:2.0px;stroke-linecap:butt;stroke-linejoin:miter;stroke-opacity:1;\"/>\n",
       "<path d=\"M 261.4,119.2 L 262.1,119.4 L 263.3,118.3\" style=\"fill:none;stroke:#000000;stroke-width:2.0px;stroke-linecap:butt;stroke-linejoin:miter;stroke-opacity:1;\"/>\n",
       "<path d=\"M 279.6,67.1 L 279.2,65.5 L 279.7,65.1\" style=\"fill:none;stroke:#000000;stroke-width:2.0px;stroke-linecap:butt;stroke-linejoin:miter;stroke-opacity:1;\"/>\n",
       "<path d=\"M 342.0,83.8 L 341.5,85.4 L 343.1,85.0\" style=\"fill:none;stroke:#000000;stroke-width:2.0px;stroke-linecap:butt;stroke-linejoin:miter;stroke-opacity:1;\"/>\n",
       "<path d=\"M 350.9,55.8 L 351.4,54.2 L 352.5,55.4\" style=\"fill:none;stroke:#000000;stroke-width:2.0px;stroke-linecap:butt;stroke-linejoin:miter;stroke-opacity:1;\"/>\n",
       "<path d=\"M 371.8,78.7 L 373.4,78.4 L 372.3,77.2\" style=\"fill:none;stroke:#000000;stroke-width:2.0px;stroke-linecap:butt;stroke-linejoin:miter;stroke-opacity:1;\"/>\n",
       "<path d=\"M 177.2,122.1 L 175.7,121.6 L 175.5,121.0\" style=\"fill:none;stroke:#000000;stroke-width:2.0px;stroke-linecap:butt;stroke-linejoin:miter;stroke-opacity:1;\"/>\n",
       "<path d=\"M 136.3,80.8 L 137.6,79.8 L 137.4,79.2\" style=\"fill:none;stroke:#000000;stroke-width:2.0px;stroke-linecap:butt;stroke-linejoin:miter;stroke-opacity:1;\"/>\n",
       "<path d=\"M 83.2,80.6 L 84.7,80.1 L 84.9,79.5\" style=\"fill:none;stroke:#000000;stroke-width:2.0px;stroke-linecap:butt;stroke-linejoin:miter;stroke-opacity:1;\"/>\n",
       "<path class=\"atom-2\" d=\"M 228.9 104.9 L 231.9 109.8 Q 232.2 110.3, 232.7 111.2 Q 233.2 112.0, 233.2 112.1 L 233.2 104.9 L 234.5 104.9 L 234.5 114.2 L 233.2 114.2 L 229.9 108.8 Q 229.6 108.2, 229.1 107.5 Q 228.8 106.7, 228.6 106.5 L 228.6 114.2 L 227.4 114.2 L 227.4 104.9 L 228.9 104.9 \" fill=\"#0000FF\"/>\n",
       "<path class=\"atom-2\" d=\"M 227.3 94.7 L 228.6 94.7 L 228.6 98.7 L 233.3 98.7 L 233.3 94.7 L 234.6 94.7 L 234.6 104.0 L 233.3 104.0 L 233.3 99.7 L 228.6 99.7 L 228.6 104.0 L 227.3 104.0 L 227.3 94.7 \" fill=\"#0000FF\"/>\n",
       "<path class=\"atom-4\" d=\"M 264.8 151.4 Q 264.8 149.1, 265.9 147.9 Q 267.0 146.7, 269.0 146.7 Q 271.1 146.7, 272.2 147.9 Q 273.3 149.1, 273.3 151.4 Q 273.3 153.6, 272.2 154.9 Q 271.1 156.2, 269.0 156.2 Q 267.0 156.2, 265.9 154.9 Q 264.8 153.6, 264.8 151.4 M 269.0 155.1 Q 270.5 155.1, 271.2 154.2 Q 272.0 153.2, 272.0 151.4 Q 272.0 149.6, 271.2 148.6 Q 270.5 147.7, 269.0 147.7 Q 267.6 147.7, 266.9 148.6 Q 266.1 149.5, 266.1 151.4 Q 266.1 153.2, 266.9 154.2 Q 267.6 155.1, 269.0 155.1 \" fill=\"#FF0000\"/>\n",
       "<path class=\"atom-4\" d=\"M 274.7 146.8 L 276.0 146.8 L 276.0 150.7 L 280.7 150.7 L 280.7 146.8 L 282.0 146.8 L 282.0 156.0 L 280.7 156.0 L 280.7 151.7 L 276.0 151.7 L 276.0 156.0 L 274.7 156.0 L 274.7 146.8 \" fill=\"#FF0000\"/>\n",
       "<path class=\"atom-7\" d=\"M 301.3 38.9 L 304.3 43.8 Q 304.6 44.3, 305.1 45.2 Q 305.6 46.1, 305.6 46.1 L 305.6 38.9 L 306.9 38.9 L 306.9 48.2 L 305.6 48.2 L 302.3 42.8 Q 302.0 42.2, 301.6 41.5 Q 301.2 40.7, 301.1 40.5 L 301.1 48.2 L 299.9 48.2 L 299.9 38.9 L 301.3 38.9 \" fill=\"#0000FF\"/>\n",
       "<path class=\"atom-7\" d=\"M 308.6 38.9 L 309.9 38.9 L 309.9 42.9 L 314.6 42.9 L 314.6 38.9 L 315.9 38.9 L 315.9 48.2 L 314.6 48.2 L 314.6 43.9 L 309.9 43.9 L 309.9 48.2 L 308.6 48.2 L 308.6 38.9 \" fill=\"#0000FF\"/>\n",
       "<path class=\"atom-7\" d=\"M 317.7 47.8 Q 317.9 47.3, 318.4 46.9 Q 319.0 46.6, 319.7 46.6 Q 320.6 46.6, 321.2 47.1 Q 321.7 47.6, 321.7 48.5 Q 321.7 49.4, 321.0 50.3 Q 320.3 51.1, 319.0 52.1 L 321.8 52.1 L 321.8 52.8 L 317.7 52.8 L 317.7 52.2 Q 318.8 51.4, 319.5 50.8 Q 320.2 50.2, 320.5 49.7 Q 320.8 49.1, 320.8 48.5 Q 320.8 48.0, 320.5 47.6 Q 320.2 47.3, 319.7 47.3 Q 319.2 47.3, 318.9 47.5 Q 318.6 47.7, 318.3 48.1 L 317.7 47.8 \" fill=\"#0000FF\"/>\n",
       "<path class=\"atom-13\" d=\"M 138.2 139.0 L 139.4 139.0 L 139.4 143.0 L 144.2 143.0 L 144.2 139.0 L 145.4 139.0 L 145.4 148.3 L 144.2 148.3 L 144.2 144.0 L 139.4 144.0 L 139.4 148.3 L 138.2 148.3 L 138.2 139.0 \" fill=\"#FF0000\"/>\n",
       "<path class=\"atom-13\" d=\"M 147.3 143.6 Q 147.3 141.4, 148.4 140.2 Q 149.5 138.9, 151.5 138.9 Q 153.6 138.9, 154.7 140.2 Q 155.8 141.4, 155.8 143.6 Q 155.8 145.9, 154.7 147.2 Q 153.6 148.4, 151.5 148.4 Q 149.5 148.4, 148.4 147.2 Q 147.3 145.9, 147.3 143.6 M 151.5 147.4 Q 153.0 147.4, 153.7 146.5 Q 154.5 145.5, 154.5 143.6 Q 154.5 141.8, 153.7 140.9 Q 153.0 140.0, 151.5 140.0 Q 150.1 140.0, 149.4 140.9 Q 148.6 141.8, 148.6 143.6 Q 148.6 145.5, 149.4 146.5 Q 150.1 147.4, 151.5 147.4 \" fill=\"#FF0000\"/>\n",
       "<path class=\"atom-14\" d=\"M 166.7 85.1 L 169.7 90.0 Q 170.0 90.5, 170.5 91.4 Q 171.0 92.2, 171.0 92.3 L 171.0 85.1 L 172.2 85.1 L 172.2 94.3 L 170.9 94.3 L 167.7 89.0 Q 167.3 88.4, 166.9 87.6 Q 166.5 86.9, 166.4 86.7 L 166.4 94.3 L 165.2 94.3 L 165.2 85.1 L 166.7 85.1 \" fill=\"#0000FF\"/>\n",
       "<path class=\"atom-14\" d=\"M 174.0 85.1 L 175.3 85.1 L 175.3 89.0 L 180.0 89.0 L 180.0 85.1 L 181.2 85.1 L 181.2 94.3 L 180.0 94.3 L 180.0 90.1 L 175.3 90.1 L 175.3 94.3 L 174.0 94.3 L 174.0 85.1 \" fill=\"#0000FF\"/>\n",
       "<path class=\"atom-19\" d=\"M 20.0 96.1 L 25.5 96.1 L 25.5 97.1 L 21.2 97.1 L 21.2 99.9 L 25.0 99.9 L 25.0 101.0 L 21.2 101.0 L 21.2 105.3 L 20.0 105.3 L 20.0 96.1 \" fill=\"#33CCCC\"/>\n",
       "<path class=\"atom-20\" d=\"M 40.7 54.8 L 46.2 54.8 L 46.2 55.8 L 42.0 55.8 L 42.0 58.6 L 45.8 58.6 L 45.8 59.7 L 42.0 59.7 L 42.0 64.0 L 40.7 64.0 L 40.7 54.8 \" fill=\"#33CCCC\"/>\n",
       "<path class=\"atom-21\" d=\"M 61.3 116.8 L 66.8 116.8 L 66.8 117.8 L 62.5 117.8 L 62.5 120.6 L 66.3 120.6 L 66.3 121.7 L 62.5 121.7 L 62.5 126.0 L 61.3 126.0 L 61.3 116.8 \" fill=\"#33CCCC\"/>\n",
       "<path class=\"atom-22\" d=\"M 82.1 44.4 L 83.3 44.4 L 83.3 48.3 L 88.1 48.3 L 88.1 44.4 L 89.3 44.4 L 89.3 53.6 L 88.1 53.6 L 88.1 49.4 L 83.3 49.4 L 83.3 53.6 L 82.1 53.6 L 82.1 44.4 \" fill=\"#0000FF\"/>\n",
       "<path class=\"atom-22\" d=\"M 92.6 44.4 L 95.6 49.3 Q 95.9 49.8, 96.4 50.6 Q 96.9 51.5, 96.9 51.6 L 96.9 44.4 L 98.2 44.4 L 98.2 53.6 L 96.9 53.6 L 93.6 48.3 Q 93.3 47.6, 92.9 46.9 Q 92.5 46.2, 92.3 46.0 L 92.3 53.6 L 91.1 53.6 L 91.1 44.4 L 92.6 44.4 \" fill=\"#0000FF\"/>\n",
       "<path class=\"atom-23\" d=\"M 125.3 44.2 L 128.3 49.1 Q 128.6 49.6, 129.1 50.4 Q 129.6 51.3, 129.6 51.4 L 129.6 44.2 L 130.8 44.2 L 130.8 53.4 L 129.6 53.4 L 126.3 48.1 Q 125.9 47.5, 125.5 46.7 Q 125.1 46.0, 125.0 45.8 L 125.0 53.4 L 123.8 53.4 L 123.8 44.2 L 125.3 44.2 \" fill=\"#0000FF\"/>\n",
       "<path class=\"atom-23\" d=\"M 132.6 44.2 L 133.9 44.2 L 133.9 48.1 L 138.6 48.1 L 138.6 44.2 L 139.9 44.2 L 139.9 53.4 L 138.6 53.4 L 138.6 49.2 L 133.9 49.2 L 133.9 53.4 L 132.6 53.4 L 132.6 44.2 \" fill=\"#0000FF\"/>\n",
       "</svg>"
      ],
      "text/plain": [
       "<IPython.core.display.SVG object>"
      ]
     },
     "metadata": {},
     "output_type": "display_data"
    },
    {
     "data": {
      "text/plain": [
       "{0: ('GOOD', 'fragment space'),\n",
       " 1: ('GOOD', 'fragment space'),\n",
       " 2: ('BAD', 'protein clash'),\n",
       " 3: ('BAD', 'protein clash'),\n",
       " 4: ('BAD', 'protein clash'),\n",
       " 5: ('BAD', 'protein clash'),\n",
       " 6: ('BAD', 'solvent space'),\n",
       " 7: ('BAD', 'solvent space'),\n",
       " 8: ('BAD', 'protein clash'),\n",
       " 9: ('BAD', 'protein clash'),\n",
       " 10: ('BAD', 'protein clash'),\n",
       " 11: ('BAD', 'protein clash'),\n",
       " 12: ('GOOD', 'fragment space'),\n",
       " 13: ('GOOD', 'fragment space'),\n",
       " 14: ('GOOD', 'fragment space'),\n",
       " 15: ('GOOD', 'fragment space'),\n",
       " 16: ('GOOD', 'fragment space'),\n",
       " 17: ('GOOD', 'fragment space'),\n",
       " 18: ('GOOD', 'fragment space'),\n",
       " 19: ('GOOD', 'fragment space'),\n",
       " 20: ('GOOD', 'fragment space'),\n",
       " 21: ('GOOD', 'fragment space'),\n",
       " 22: ('GOOD', 'fragment space'),\n",
       " 23: ('GOOD', 'fragment space')}"
      ]
     },
     "execution_count": 18,
     "metadata": {},
     "output_type": "execute_result"
    }
   ],
   "source": [
    "butcher.chop(mol, draw='2d')"
   ]
  },
  {
   "cell_type": "code",
   "execution_count": 19,
   "id": "8775e12e-29a3-48cf-8792-5c14f347d33e",
   "metadata": {},
   "outputs": [
    {
     "data": {
      "text/plain": [
       "{0: ('GOOD', 'fragment space'),\n",
       " 1: ('GOOD', 'fragment space'),\n",
       " 2: ('BAD', 'protein clash'),\n",
       " 3: ('BAD', 'protein clash'),\n",
       " 4: ('BAD', 'protein clash'),\n",
       " 5: ('BAD', 'protein clash'),\n",
       " 6: ('BAD', 'solvent space'),\n",
       " 7: ('BAD', 'solvent space'),\n",
       " 8: ('BAD', 'protein clash'),\n",
       " 9: ('BAD', 'protein clash'),\n",
       " 10: ('BAD', 'protein clash'),\n",
       " 11: ('BAD', 'protein clash'),\n",
       " 12: ('GOOD', 'fragment space'),\n",
       " 13: ('GOOD', 'fragment space'),\n",
       " 14: ('GOOD', 'fragment space'),\n",
       " 15: ('GOOD', 'fragment space'),\n",
       " 16: ('GOOD', 'fragment space'),\n",
       " 17: ('GOOD', 'fragment space'),\n",
       " 18: ('GOOD', 'fragment space'),\n",
       " 19: ('GOOD', 'fragment space'),\n",
       " 20: ('GOOD', 'fragment space'),\n",
       " 21: ('GOOD', 'fragment space'),\n",
       " 22: ('GOOD', 'fragment space'),\n",
       " 23: ('GOOD', 'fragment space')}"
      ]
     },
     "execution_count": 19,
     "metadata": {},
     "output_type": "execute_result"
    }
   ],
   "source": [
    "butcher.chop(mol, draw='3d')"
   ]
  },
  {
   "cell_type": "code",
   "execution_count": 24,
   "id": "653ae202-e2fc-456a-ad13-a7bb437ff986",
   "metadata": {},
   "outputs": [
    {
     "name": "stdout",
     "output_type": "stream",
     "text": [
      "BBS_AMU_033B\n"
     ]
    }
   ],
   "source": [
    "i = 46\n",
    "print(mol_df['ID'].values[i])\n",
    "mol = mol_df['ROMol'].values[i]\n",
    "mol._Name = mol_df['ID'].values[i]"
   ]
  },
  {
   "cell_type": "code",
   "execution_count": 32,
   "id": "8f319c23-5743-432e-8be3-90155f606ed3",
   "metadata": {},
   "outputs": [
    {
     "name": "stdout",
     "output_type": "stream",
     "text": [
      "\u001b[1mBBS_AMU_033B\u001b[0m\u001b[0m                                    \n"
     ]
    },
    {
     "data": {
      "image/svg+xml": [
       "<svg xmlns=\"http://www.w3.org/2000/svg\" xmlns:rdkit=\"http://www.rdkit.org/xml\" xmlns:xlink=\"http://www.w3.org/1999/xlink\" version=\"1.1\" baseProfile=\"full\" xml:space=\"preserve\" width=\"400px\" height=\"200px\" viewBox=\"0 0 400 200\">\n",
       "<!-- END OF HEADER -->\n",
       "<rect style=\"opacity:1.0;fill:#FFFFFF;stroke:none\" width=\"400.0\" height=\"200.0\" x=\"0.0\" y=\"0.0\"> </rect>\n",
       "<path class=\"bond-9 atom-9 atom-10\" d=\"M 350.2,45.0 L 353.1,58.5 L 347.0,77.9 L 336.8,87.2 Z\" style=\"fill:#FF0000;fill-rule:evenodd;fill-opacity:1;stroke:#FF0000;stroke-width:0.0px;stroke-linecap:butt;stroke-linejoin:miter;stroke-opacity:1;\"/>\n",
       "<path class=\"bond-11 atom-9 atom-11\" d=\"M 366.9,73.5 L 380.0,77.7 L 336.8,87.2 L 347.0,77.9 Z\" style=\"fill:#FF0000;fill-rule:evenodd;fill-opacity:1;stroke:#FF0000;stroke-width:0.0px;stroke-linecap:butt;stroke-linejoin:miter;stroke-opacity:1;\"/>\n",
       "<path class=\"bond-10 atom-10 atom-11\" d=\"M 350.2,45.0 L 380.0,77.7 L 366.9,73.5 L 353.1,58.5 Z\" style=\"fill:#FF0000;fill-rule:evenodd;fill-opacity:1;stroke:#FF0000;stroke-width:0.0px;stroke-linecap:butt;stroke-linejoin:miter;stroke-opacity:1;\"/>\n",
       "<path class=\"bond-13 atom-12 atom-13\" d=\"M 175.5,115.9 L 180.1,121.0 L 156.2,142.7 L 151.6,137.6 Z\" style=\"fill:#00FF00;fill-rule:evenodd;fill-opacity:1;stroke:#00FF00;stroke-width:0.0px;stroke-linecap:butt;stroke-linejoin:miter;stroke-opacity:1;\"/>\n",
       "<ellipse cx=\"215.5\" cy=\"159.8\" rx=\"6.5\" ry=\"6.5\" class=\"atom-0\" style=\"fill:#FF0000;fill-rule:evenodd;stroke:#FF0000;stroke-width:1.0px;stroke-linecap:butt;stroke-linejoin:miter;stroke-opacity:1\"/>\n",
       "<ellipse cx=\"311.5\" cy=\"43.4\" rx=\"15.3\" ry=\"9.7\" class=\"atom-7\" style=\"fill:#00FF00;fill-rule:evenodd;stroke:#00FF00;stroke-width:1.0px;stroke-linecap:butt;stroke-linejoin:miter;stroke-opacity:1\"/>\n",
       "<ellipse cx=\"341.9\" cy=\"82.5\" rx=\"6.5\" ry=\"6.5\" class=\"atom-9\" style=\"fill:#00FF00;fill-rule:evenodd;stroke:#00FF00;stroke-width:1.0px;stroke-linecap:butt;stroke-linejoin:miter;stroke-opacity:1\"/>\n",
       "<ellipse cx=\"351.7\" cy=\"51.7\" rx=\"6.5\" ry=\"6.5\" class=\"atom-10\" style=\"fill:#FF0000;fill-rule:evenodd;stroke:#FF0000;stroke-width:1.0px;stroke-linecap:butt;stroke-linejoin:miter;stroke-opacity:1\"/>\n",
       "<ellipse cx=\"373.4\" cy=\"75.6\" rx=\"6.5\" ry=\"6.5\" class=\"atom-11\" style=\"fill:#FF0000;fill-rule:evenodd;stroke:#FF0000;stroke-width:1.0px;stroke-linecap:butt;stroke-linejoin:miter;stroke-opacity:1\"/>\n",
       "<ellipse cx=\"177.8\" cy=\"118.4\" rx=\"6.5\" ry=\"6.5\" class=\"atom-12\" style=\"fill:#00FF00;fill-rule:evenodd;stroke:#00FF00;stroke-width:1.0px;stroke-linecap:butt;stroke-linejoin:miter;stroke-opacity:1\"/>\n",
       "<ellipse cx=\"149.4\" cy=\"140.3\" rx=\"12.3\" ry=\"6.6\" class=\"atom-13\" style=\"fill:#00FF00;fill-rule:evenodd;stroke:#00FF00;stroke-width:1.0px;stroke-linecap:butt;stroke-linejoin:miter;stroke-opacity:1\"/>\n",
       "<ellipse cx=\"26.5\" cy=\"97.7\" rx=\"6.5\" ry=\"6.5\" class=\"atom-19\" style=\"fill:#00FF00;fill-rule:evenodd;stroke:#00FF00;stroke-width:1.0px;stroke-linecap:butt;stroke-linejoin:miter;stroke-opacity:1\"/>\n",
       "<path class=\"bond-0 atom-1 atom-0\" d=\"M 208.6,128.2 L 217.9,159.3 L 213.1,160.3 Z\" style=\"fill:#000000;fill-rule:evenodd;fill-opacity:1;stroke:#000000;stroke-width:0.5px;stroke-linecap:butt;stroke-linejoin:miter;stroke-opacity:1;\"/>\n",
       "<path class=\"bond-1 atom-2 atom-1\" d=\"M 228.0,110.6 L 218.3,119.4\" style=\"fill:none;fill-rule:evenodd;stroke:#0000FF;stroke-width:2.0px;stroke-linecap:butt;stroke-linejoin:miter;stroke-opacity:1\"/>\n",
       "<path class=\"bond-1 atom-2 atom-1\" d=\"M 218.3,119.4 L 208.6,128.2\" style=\"fill:none;fill-rule:evenodd;stroke:#000000;stroke-width:2.0px;stroke-linecap:butt;stroke-linejoin:miter;stroke-opacity:1\"/>\n",
       "<path class=\"bond-2 atom-3 atom-2\" d=\"M 263.3,116.3 L 250.2,112.1\" style=\"fill:none;fill-rule:evenodd;stroke:#000000;stroke-width:2.0px;stroke-linecap:butt;stroke-linejoin:miter;stroke-opacity:1\"/>\n",
       "<path class=\"bond-2 atom-3 atom-2\" d=\"M 250.2,112.1 L 237.0,107.9\" style=\"fill:none;fill-rule:evenodd;stroke:#0000FF;stroke-width:2.0px;stroke-linecap:butt;stroke-linejoin:miter;stroke-opacity:1\"/>\n",
       "<path class=\"bond-3 atom-3 atom-4\" d=\"M 264.4,119.7 L 263.7,119.9\" style=\"fill:none;fill-rule:evenodd;stroke:#000000;stroke-width:1.0px;stroke-linecap:butt;stroke-linejoin:miter;stroke-opacity:1\"/>\n",
       "<path class=\"bond-3 atom-3 atom-4\" d=\"M 265.5,123.2 L 264.2,123.5\" style=\"fill:none;fill-rule:evenodd;stroke:#000000;stroke-width:1.0px;stroke-linecap:butt;stroke-linejoin:miter;stroke-opacity:1\"/>\n",
       "<path class=\"bond-3 atom-3 atom-4\" d=\"M 266.6,126.7 L 264.6,127.1\" style=\"fill:none;fill-rule:evenodd;stroke:#000000;stroke-width:1.0px;stroke-linecap:butt;stroke-linejoin:miter;stroke-opacity:1\"/>\n",
       "<path class=\"bond-3 atom-3 atom-4\" d=\"M 267.7,130.1 L 265.0,130.7\" style=\"fill:none;fill-rule:evenodd;stroke:#FF0000;stroke-width:1.0px;stroke-linecap:butt;stroke-linejoin:miter;stroke-opacity:1\"/>\n",
       "<path class=\"bond-3 atom-3 atom-4\" d=\"M 268.9,133.6 L 265.5,134.4\" style=\"fill:none;fill-rule:evenodd;stroke:#FF0000;stroke-width:1.0px;stroke-linecap:butt;stroke-linejoin:miter;stroke-opacity:1\"/>\n",
       "<path class=\"bond-3 atom-3 atom-4\" d=\"M 270.0,137.1 L 265.9,138.0\" style=\"fill:none;fill-rule:evenodd;stroke:#FF0000;stroke-width:1.0px;stroke-linecap:butt;stroke-linejoin:miter;stroke-opacity:1\"/>\n",
       "<path class=\"bond-3 atom-3 atom-4\" d=\"M 271.1,140.6 L 266.3,141.6\" style=\"fill:none;fill-rule:evenodd;stroke:#FF0000;stroke-width:1.0px;stroke-linecap:butt;stroke-linejoin:miter;stroke-opacity:1\"/>\n",
       "<path class=\"bond-4 atom-5 atom-3\" d=\"M 287.2,94.5 L 263.3,116.3\" style=\"fill:none;fill-rule:evenodd;stroke:#000000;stroke-width:2.0px;stroke-linecap:butt;stroke-linejoin:miter;stroke-opacity:1\"/>\n",
       "<path class=\"bond-5 atom-5 atom-6\" d=\"M 286.7,90.9 L 286.1,91.1\" style=\"fill:none;fill-rule:evenodd;stroke:#000000;stroke-width:1.0px;stroke-linecap:butt;stroke-linejoin:miter;stroke-opacity:1\"/>\n",
       "<path class=\"bond-5 atom-5 atom-6\" d=\"M 286.2,87.4 L 285.1,87.6\" style=\"fill:none;fill-rule:evenodd;stroke:#000000;stroke-width:1.0px;stroke-linecap:butt;stroke-linejoin:miter;stroke-opacity:1\"/>\n",
       "<path class=\"bond-5 atom-5 atom-6\" d=\"M 285.8,83.8 L 284.0,84.2\" style=\"fill:none;fill-rule:evenodd;stroke:#000000;stroke-width:1.0px;stroke-linecap:butt;stroke-linejoin:miter;stroke-opacity:1\"/>\n",
       "<path class=\"bond-5 atom-5 atom-6\" d=\"M 285.3,80.2 L 282.9,80.7\" style=\"fill:none;fill-rule:evenodd;stroke:#000000;stroke-width:1.0px;stroke-linecap:butt;stroke-linejoin:miter;stroke-opacity:1\"/>\n",
       "<path class=\"bond-5 atom-5 atom-6\" d=\"M 284.8,76.6 L 281.9,77.3\" style=\"fill:none;fill-rule:evenodd;stroke:#000000;stroke-width:1.0px;stroke-linecap:butt;stroke-linejoin:miter;stroke-opacity:1\"/>\n",
       "<path class=\"bond-5 atom-5 atom-6\" d=\"M 284.3,73.1 L 280.8,73.9\" style=\"fill:none;fill-rule:evenodd;stroke:#000000;stroke-width:1.0px;stroke-linecap:butt;stroke-linejoin:miter;stroke-opacity:1\"/>\n",
       "<path class=\"bond-5 atom-5 atom-6\" d=\"M 283.9,69.5 L 279.7,70.4\" style=\"fill:none;fill-rule:evenodd;stroke:#000000;stroke-width:1.0px;stroke-linecap:butt;stroke-linejoin:miter;stroke-opacity:1\"/>\n",
       "<path class=\"bond-5 atom-5 atom-6\" d=\"M 283.4,65.9 L 278.7,67.0\" style=\"fill:none;fill-rule:evenodd;stroke:#000000;stroke-width:1.0px;stroke-linecap:butt;stroke-linejoin:miter;stroke-opacity:1\"/>\n",
       "<path class=\"bond-6 atom-7 atom-6\" d=\"M 299.6,45.3 L 289.9,54.1\" style=\"fill:none;fill-rule:evenodd;stroke:#0000FF;stroke-width:2.0px;stroke-linecap:butt;stroke-linejoin:miter;stroke-opacity:1\"/>\n",
       "<path class=\"bond-6 atom-7 atom-6\" d=\"M 289.9,54.1 L 280.3,62.9\" style=\"fill:none;fill-rule:evenodd;stroke:#000000;stroke-width:2.0px;stroke-linecap:butt;stroke-linejoin:miter;stroke-opacity:1\"/>\n",
       "<path class=\"bond-7 atom-8 atom-5\" d=\"M 318.0,104.3 L 287.2,94.5\" style=\"fill:none;fill-rule:evenodd;stroke:#000000;stroke-width:2.0px;stroke-linecap:butt;stroke-linejoin:miter;stroke-opacity:1\"/>\n",
       "<path class=\"bond-8 atom-9 atom-8\" d=\"M 339.0,84.7 L 339.4,85.2\" style=\"fill:none;fill-rule:evenodd;stroke:#000000;stroke-width:1.0px;stroke-linecap:butt;stroke-linejoin:miter;stroke-opacity:1\"/>\n",
       "<path class=\"bond-8 atom-9 atom-8\" d=\"M 336.1,86.9 L 337.0,87.8\" style=\"fill:none;fill-rule:evenodd;stroke:#000000;stroke-width:1.0px;stroke-linecap:butt;stroke-linejoin:miter;stroke-opacity:1\"/>\n",
       "<path class=\"bond-8 atom-9 atom-8\" d=\"M 333.3,89.1 L 334.5,90.5\" style=\"fill:none;fill-rule:evenodd;stroke:#000000;stroke-width:1.0px;stroke-linecap:butt;stroke-linejoin:miter;stroke-opacity:1\"/>\n",
       "<path class=\"bond-8 atom-9 atom-8\" d=\"M 330.4,91.3 L 332.1,93.1\" style=\"fill:none;fill-rule:evenodd;stroke:#000000;stroke-width:1.0px;stroke-linecap:butt;stroke-linejoin:miter;stroke-opacity:1\"/>\n",
       "<path class=\"bond-8 atom-9 atom-8\" d=\"M 327.6,93.5 L 329.6,95.7\" style=\"fill:none;fill-rule:evenodd;stroke:#000000;stroke-width:1.0px;stroke-linecap:butt;stroke-linejoin:miter;stroke-opacity:1\"/>\n",
       "<path class=\"bond-8 atom-9 atom-8\" d=\"M 324.7,95.7 L 327.2,98.4\" style=\"fill:none;fill-rule:evenodd;stroke:#000000;stroke-width:1.0px;stroke-linecap:butt;stroke-linejoin:miter;stroke-opacity:1\"/>\n",
       "<path class=\"bond-8 atom-9 atom-8\" d=\"M 321.9,97.9 L 324.7,101.0\" style=\"fill:none;fill-rule:evenodd;stroke:#000000;stroke-width:1.0px;stroke-linecap:butt;stroke-linejoin:miter;stroke-opacity:1\"/>\n",
       "<path class=\"bond-8 atom-9 atom-8\" d=\"M 319.0,100.1 L 322.3,103.7\" style=\"fill:none;fill-rule:evenodd;stroke:#000000;stroke-width:1.0px;stroke-linecap:butt;stroke-linejoin:miter;stroke-opacity:1\"/>\n",
       "<path class=\"bond-9 atom-10 atom-9\" d=\"M 351.7,51.7 L 341.9,82.5\" style=\"fill:none;fill-rule:evenodd;stroke:#000000;stroke-width:2.0px;stroke-linecap:butt;stroke-linejoin:miter;stroke-opacity:1\"/>\n",
       "<path class=\"bond-10 atom-11 atom-10\" d=\"M 373.4,75.6 L 351.7,51.7\" style=\"fill:none;fill-rule:evenodd;stroke:#000000;stroke-width:2.0px;stroke-linecap:butt;stroke-linejoin:miter;stroke-opacity:1\"/>\n",
       "<path class=\"bond-11 atom-11 atom-9\" d=\"M 373.4,75.6 L 341.9,82.5\" style=\"fill:none;fill-rule:evenodd;stroke:#000000;stroke-width:2.0px;stroke-linecap:butt;stroke-linejoin:miter;stroke-opacity:1\"/>\n",
       "<path class=\"bond-12 atom-12 atom-1\" d=\"M 177.8,118.4 L 208.6,128.2\" style=\"fill:none;fill-rule:evenodd;stroke:#000000;stroke-width:2.0px;stroke-linecap:butt;stroke-linejoin:miter;stroke-opacity:1\"/>\n",
       "<path class=\"bond-13 atom-12 atom-13\" d=\"M 175.5,121.0 L 175.1,120.5\" style=\"fill:none;fill-rule:evenodd;stroke:#000000;stroke-width:1.0px;stroke-linecap:butt;stroke-linejoin:miter;stroke-opacity:1\"/>\n",
       "<path class=\"bond-13 atom-12 atom-13\" d=\"M 173.3,123.5 L 172.3,122.5\" style=\"fill:none;fill-rule:evenodd;stroke:#000000;stroke-width:1.0px;stroke-linecap:butt;stroke-linejoin:miter;stroke-opacity:1\"/>\n",
       "<path class=\"bond-13 atom-12 atom-13\" d=\"M 171.0,126.0 L 169.6,124.5\" style=\"fill:none;fill-rule:evenodd;stroke:#000000;stroke-width:1.0px;stroke-linecap:butt;stroke-linejoin:miter;stroke-opacity:1\"/>\n",
       "<path class=\"bond-13 atom-12 atom-13\" d=\"M 168.7,128.6 L 166.8,126.5\" style=\"fill:none;fill-rule:evenodd;stroke:#FF0000;stroke-width:1.0px;stroke-linecap:butt;stroke-linejoin:miter;stroke-opacity:1\"/>\n",
       "<path class=\"bond-13 atom-12 atom-13\" d=\"M 166.4,131.1 L 164.1,128.6\" style=\"fill:none;fill-rule:evenodd;stroke:#FF0000;stroke-width:1.0px;stroke-linecap:butt;stroke-linejoin:miter;stroke-opacity:1\"/>\n",
       "<path class=\"bond-13 atom-12 atom-13\" d=\"M 164.2,133.7 L 161.4,130.6\" style=\"fill:none;fill-rule:evenodd;stroke:#FF0000;stroke-width:1.0px;stroke-linecap:butt;stroke-linejoin:miter;stroke-opacity:1\"/>\n",
       "<path class=\"bond-13 atom-12 atom-13\" d=\"M 161.9,136.2 L 158.6,132.6\" style=\"fill:none;fill-rule:evenodd;stroke:#FF0000;stroke-width:1.0px;stroke-linecap:butt;stroke-linejoin:miter;stroke-opacity:1\"/>\n",
       "<path class=\"bond-14 atom-14 atom-12\" d=\"M 172.1,92.5 L 175.0,105.5\" style=\"fill:none;fill-rule:evenodd;stroke:#0000FF;stroke-width:2.0px;stroke-linecap:butt;stroke-linejoin:miter;stroke-opacity:1\"/>\n",
       "<path class=\"bond-14 atom-14 atom-12\" d=\"M 175.0,105.5 L 177.8,118.4\" style=\"fill:none;fill-rule:evenodd;stroke:#000000;stroke-width:2.0px;stroke-linecap:butt;stroke-linejoin:miter;stroke-opacity:1\"/>\n",
       "<path class=\"bond-15 atom-15 atom-14\" d=\"M 140.1,77.0 L 153.1,79.9 L 152.3,82.2 Z\" style=\"fill:#000000;fill-rule:evenodd;fill-opacity:1;stroke:#000000;stroke-width:0.5px;stroke-linecap:butt;stroke-linejoin:miter;stroke-opacity:1;\"/>\n",
       "<path class=\"bond-15 atom-15 atom-14\" d=\"M 153.1,79.9 L 164.6,87.4 L 166.0,82.8 Z\" style=\"fill:#0000FF;fill-rule:evenodd;fill-opacity:1;stroke:#0000FF;stroke-width:0.5px;stroke-linecap:butt;stroke-linejoin:miter;stroke-opacity:1;\"/>\n",
       "<path class=\"bond-15 atom-15 atom-14\" d=\"M 153.1,79.9 L 152.3,82.2 L 164.6,87.4 Z\" style=\"fill:#0000FF;fill-rule:evenodd;fill-opacity:1;stroke:#0000FF;stroke-width:0.5px;stroke-linecap:butt;stroke-linejoin:miter;stroke-opacity:1;\"/>\n",
       "<path class=\"bond-16 atom-16 atom-15\" d=\"M 112.1,97.7 L 140.1,77.0\" style=\"fill:none;fill-rule:evenodd;stroke:#000000;stroke-width:2.0px;stroke-linecap:butt;stroke-linejoin:miter;stroke-opacity:1\"/>\n",
       "<path class=\"bond-17 atom-17 atom-16\" d=\"M 87.8,77.4 L 116.2,94.7 L 112.1,97.7 Z\" style=\"fill:#000000;fill-rule:evenodd;fill-opacity:1;stroke:#000000;stroke-width:0.5px;stroke-linecap:butt;stroke-linejoin:miter;stroke-opacity:1;\"/>\n",
       "<path class=\"bond-18 atom-18 atom-17\" d=\"M 57.1,87.5 L 87.8,77.4\" style=\"fill:none;fill-rule:evenodd;stroke:#000000;stroke-width:2.0px;stroke-linecap:butt;stroke-linejoin:miter;stroke-opacity:1\"/>\n",
       "<path class=\"bond-19 atom-18 atom-19\" d=\"M 57.1,87.5 L 44.6,93.0 L 43.8,90.7 Z\" style=\"fill:#000000;fill-rule:evenodd;fill-opacity:1;stroke:#000000;stroke-width:0.5px;stroke-linecap:butt;stroke-linejoin:miter;stroke-opacity:1;\"/>\n",
       "<path class=\"bond-19 atom-18 atom-19\" d=\"M 44.6,93.0 L 30.6,93.8 L 32.1,98.4 Z\" style=\"fill:#33CCCC;fill-rule:evenodd;fill-opacity:1;stroke:#33CCCC;stroke-width:0.5px;stroke-linecap:butt;stroke-linejoin:miter;stroke-opacity:1;\"/>\n",
       "<path class=\"bond-19 atom-18 atom-19\" d=\"M 44.6,93.0 L 43.8,90.7 L 30.6,93.8 Z\" style=\"fill:#33CCCC;fill-rule:evenodd;fill-opacity:1;stroke:#33CCCC;stroke-width:0.5px;stroke-linecap:butt;stroke-linejoin:miter;stroke-opacity:1;\"/>\n",
       "<path class=\"bond-20 atom-20 atom-18\" d=\"M 48.8,62.5 L 53.0,75.0\" style=\"fill:none;fill-rule:evenodd;stroke:#33CCCC;stroke-width:2.0px;stroke-linecap:butt;stroke-linejoin:miter;stroke-opacity:1\"/>\n",
       "<path class=\"bond-20 atom-20 atom-18\" d=\"M 53.0,75.0 L 57.1,87.5\" style=\"fill:none;fill-rule:evenodd;stroke:#000000;stroke-width:2.0px;stroke-linecap:butt;stroke-linejoin:miter;stroke-opacity:1\"/>\n",
       "<path class=\"bond-21 atom-21 atom-18\" d=\"M 65.4,112.6 L 61.3,100.0\" style=\"fill:none;fill-rule:evenodd;stroke:#33CCCC;stroke-width:2.0px;stroke-linecap:butt;stroke-linejoin:miter;stroke-opacity:1\"/>\n",
       "<path class=\"bond-21 atom-21 atom-18\" d=\"M 61.3,100.0 L 57.1,87.5\" style=\"fill:none;fill-rule:evenodd;stroke:#000000;stroke-width:2.0px;stroke-linecap:butt;stroke-linejoin:miter;stroke-opacity:1\"/>\n",
       "<path class=\"bond-22 atom-22 atom-17\" d=\"M 95.8,52.2 L 91.8,64.8\" style=\"fill:none;fill-rule:evenodd;stroke:#0000FF;stroke-width:2.0px;stroke-linecap:butt;stroke-linejoin:miter;stroke-opacity:1\"/>\n",
       "<path class=\"bond-22 atom-22 atom-17\" d=\"M 91.8,64.8 L 87.8,77.4\" style=\"fill:none;fill-rule:evenodd;stroke:#000000;stroke-width:2.0px;stroke-linecap:butt;stroke-linejoin:miter;stroke-opacity:1\"/>\n",
       "<path class=\"bond-23 atom-23 atom-22\" d=\"M 125.4,46.4 L 102.2,46.5\" style=\"fill:none;fill-rule:evenodd;stroke:#0000FF;stroke-width:2.0px;stroke-linecap:butt;stroke-linejoin:miter;stroke-opacity:1\"/>\n",
       "<path class=\"bond-24 atom-23 atom-15\" d=\"M 131.8,52.0 L 136.0,64.5\" style=\"fill:none;fill-rule:evenodd;stroke:#0000FF;stroke-width:2.0px;stroke-linecap:butt;stroke-linejoin:miter;stroke-opacity:1\"/>\n",
       "<path class=\"bond-24 atom-23 atom-15\" d=\"M 136.0,64.5 L 140.1,77.0\" style=\"fill:none;fill-rule:evenodd;stroke:#000000;stroke-width:2.0px;stroke-linecap:butt;stroke-linejoin:miter;stroke-opacity:1\"/>\n",
       "<path d=\"M 209.1,127.8 L 208.6,128.2 L 207.1,127.7\" style=\"fill:none;stroke:#000000;stroke-width:2.0px;stroke-linecap:butt;stroke-linejoin:miter;stroke-opacity:1;\"/>\n",
       "<path d=\"M 262.6,116.1 L 263.3,116.3 L 264.5,115.2\" style=\"fill:none;stroke:#000000;stroke-width:2.0px;stroke-linecap:butt;stroke-linejoin:miter;stroke-opacity:1;\"/>\n",
       "<path d=\"M 286.0,95.6 L 287.2,94.5 L 288.7,95.0\" style=\"fill:none;stroke:#000000;stroke-width:2.0px;stroke-linecap:butt;stroke-linejoin:miter;stroke-opacity:1;\"/>\n",
       "<path d=\"M 342.3,81.0 L 341.9,82.5 L 343.4,82.2\" style=\"fill:none;stroke:#000000;stroke-width:2.0px;stroke-linecap:butt;stroke-linejoin:miter;stroke-opacity:1;\"/>\n",
       "<path d=\"M 351.2,53.3 L 351.7,51.7 L 352.8,52.9\" style=\"fill:none;stroke:#000000;stroke-width:2.0px;stroke-linecap:butt;stroke-linejoin:miter;stroke-opacity:1;\"/>\n",
       "<path d=\"M 372.3,74.4 L 373.4,75.6 L 371.9,76.0\" style=\"fill:none;stroke:#000000;stroke-width:2.0px;stroke-linecap:butt;stroke-linejoin:miter;stroke-opacity:1;\"/>\n",
       "<path d=\"M 179.3,118.9 L 177.8,118.4 L 177.7,117.8\" style=\"fill:none;stroke:#000000;stroke-width:2.0px;stroke-linecap:butt;stroke-linejoin:miter;stroke-opacity:1;\"/>\n",
       "<path d=\"M 138.7,78.1 L 140.1,77.0 L 139.9,76.4\" style=\"fill:none;stroke:#000000;stroke-width:2.0px;stroke-linecap:butt;stroke-linejoin:miter;stroke-opacity:1;\"/>\n",
       "<path d=\"M 86.3,77.9 L 87.8,77.4 L 88.0,76.7\" style=\"fill:none;stroke:#000000;stroke-width:2.0px;stroke-linecap:butt;stroke-linejoin:miter;stroke-opacity:1;\"/>\n",
       "<path class=\"atom-2\" d=\"M 230.5 101.9 L 233.5 106.7 Q 233.8 107.2, 234.2 108.1 Q 234.7 108.9, 234.7 109.0 L 234.7 101.9 L 236.0 101.9 L 236.0 111.0 L 234.7 111.0 L 231.5 105.7 Q 231.1 105.1, 230.7 104.4 Q 230.3 103.7, 230.2 103.5 L 230.2 111.0 L 229.0 111.0 L 229.0 101.9 L 230.5 101.9 \" fill=\"#0000FF\"/>\n",
       "<path class=\"atom-2\" d=\"M 228.9 91.8 L 230.2 91.8 L 230.2 95.7 L 234.8 95.7 L 234.8 91.8 L 236.1 91.8 L 236.1 101.0 L 234.8 101.0 L 234.8 96.7 L 230.2 96.7 L 230.2 101.0 L 228.9 101.0 L 228.9 91.8 \" fill=\"#0000FF\"/>\n",
       "<path class=\"atom-4\" d=\"M 266.0 147.9 Q 266.0 145.7, 267.1 144.4 Q 268.2 143.2, 270.2 143.2 Q 272.2 143.2, 273.3 144.4 Q 274.4 145.7, 274.4 147.9 Q 274.4 150.1, 273.3 151.4 Q 272.2 152.6, 270.2 152.6 Q 268.2 152.6, 267.1 151.4 Q 266.0 150.1, 266.0 147.9 M 270.2 151.6 Q 271.6 151.6, 272.3 150.6 Q 273.1 149.7, 273.1 147.9 Q 273.1 146.1, 272.3 145.2 Q 271.6 144.2, 270.2 144.2 Q 268.8 144.2, 268.0 145.1 Q 267.3 146.1, 267.3 147.9 Q 267.3 149.7, 268.0 150.6 Q 268.8 151.6, 270.2 151.6 \" fill=\"#FF0000\"/>\n",
       "<path class=\"atom-4\" d=\"M 275.8 143.3 L 277.1 143.3 L 277.1 147.2 L 281.7 147.2 L 281.7 143.3 L 283.0 143.3 L 283.0 152.5 L 281.7 152.5 L 281.7 148.2 L 277.1 148.2 L 277.1 152.5 L 275.8 152.5 L 275.8 143.3 \" fill=\"#FF0000\"/>\n",
       "<path class=\"atom-7\" d=\"M 302.1 36.6 L 305.1 41.4 Q 305.4 41.9, 305.9 42.8 Q 306.4 43.6, 306.4 43.7 L 306.4 36.6 L 307.6 36.6 L 307.6 45.7 L 306.4 45.7 L 303.2 40.4 Q 302.8 39.8, 302.4 39.1 Q 302.0 38.4, 301.9 38.2 L 301.9 45.7 L 300.7 45.7 L 300.7 36.6 L 302.1 36.6 \" fill=\"#0000FF\"/>\n",
       "<path class=\"atom-7\" d=\"M 309.4 36.6 L 310.6 36.6 L 310.6 40.5 L 315.3 40.5 L 315.3 36.6 L 316.5 36.6 L 316.5 45.7 L 315.3 45.7 L 315.3 41.5 L 310.6 41.5 L 310.6 45.7 L 309.4 45.7 L 309.4 36.6 \" fill=\"#0000FF\"/>\n",
       "<path class=\"atom-7\" d=\"M 318.3 45.4 Q 318.6 44.8, 319.1 44.5 Q 319.6 44.2, 320.3 44.2 Q 321.3 44.2, 321.8 44.7 Q 322.3 45.2, 322.3 46.1 Q 322.3 47.0, 321.6 47.8 Q 321.0 48.6, 319.6 49.6 L 322.4 49.6 L 322.4 50.3 L 318.3 50.3 L 318.3 49.7 Q 319.4 48.9, 320.1 48.3 Q 320.8 47.7, 321.1 47.2 Q 321.4 46.7, 321.4 46.1 Q 321.4 45.5, 321.1 45.2 Q 320.8 44.9, 320.3 44.9 Q 319.9 44.9, 319.5 45.1 Q 319.2 45.3, 319.0 45.7 L 318.3 45.4 \" fill=\"#0000FF\"/>\n",
       "<path class=\"atom-13\" d=\"M 140.7 135.7 L 141.9 135.7 L 141.9 139.6 L 146.6 139.6 L 146.6 135.7 L 147.8 135.7 L 147.8 144.8 L 146.6 144.8 L 146.6 140.6 L 141.9 140.6 L 141.9 144.8 L 140.7 144.8 L 140.7 135.7 \" fill=\"#FF0000\"/>\n",
       "<path class=\"atom-13\" d=\"M 149.7 140.2 Q 149.7 138.0, 150.8 136.8 Q 151.9 135.6, 153.9 135.6 Q 156.0 135.6, 157.0 136.8 Q 158.1 138.0, 158.1 140.2 Q 158.1 142.4, 157.0 143.7 Q 155.9 145.0, 153.9 145.0 Q 151.9 145.0, 150.8 143.7 Q 149.7 142.5, 149.7 140.2 M 153.9 143.9 Q 155.3 143.9, 156.1 143.0 Q 156.8 142.1, 156.8 140.2 Q 156.8 138.4, 156.1 137.5 Q 155.3 136.6, 153.9 136.6 Q 152.5 136.6, 151.8 137.5 Q 151.0 138.4, 151.0 140.2 Q 151.0 142.1, 151.8 143.0 Q 152.5 143.9, 153.9 143.9 \" fill=\"#FF0000\"/>\n",
       "<path class=\"atom-14\" d=\"M 168.9 82.3 L 171.9 87.1 Q 172.2 87.6, 172.7 88.5 Q 173.1 89.3, 173.2 89.4 L 173.2 82.3 L 174.4 82.3 L 174.4 91.4 L 173.1 91.4 L 169.9 86.1 Q 169.5 85.5, 169.1 84.8 Q 168.7 84.1, 168.6 83.9 L 168.6 91.4 L 167.4 91.4 L 167.4 82.3 L 168.9 82.3 \" fill=\"#0000FF\"/>\n",
       "<path class=\"atom-14\" d=\"M 176.2 82.3 L 177.4 82.3 L 177.4 86.2 L 182.1 86.2 L 182.1 82.3 L 183.3 82.3 L 183.3 91.4 L 182.1 91.4 L 182.1 87.2 L 177.4 87.2 L 177.4 91.4 L 176.2 91.4 L 176.2 82.3 \" fill=\"#0000FF\"/>\n",
       "<path class=\"atom-19\" d=\"M 23.7 93.1 L 29.2 93.1 L 29.2 94.2 L 25.0 94.2 L 25.0 97.0 L 28.7 97.0 L 28.7 98.0 L 25.0 98.0 L 25.0 102.3 L 23.7 102.3 L 23.7 93.1 \" fill=\"#33CCCC\"/>\n",
       "<path class=\"atom-20\" d=\"M 44.2 52.3 L 49.7 52.3 L 49.7 53.3 L 45.5 53.3 L 45.5 56.1 L 49.2 56.1 L 49.2 57.2 L 45.5 57.2 L 45.5 61.4 L 44.2 61.4 L 44.2 52.3 \" fill=\"#33CCCC\"/>\n",
       "<path class=\"atom-21\" d=\"M 64.6 113.6 L 70.0 113.6 L 70.0 114.7 L 65.8 114.7 L 65.8 117.5 L 69.6 117.5 L 69.6 118.5 L 65.8 118.5 L 65.8 122.8 L 64.6 122.8 L 64.6 113.6 \" fill=\"#33CCCC\"/>\n",
       "<path class=\"atom-22\" d=\"M 85.2 42.0 L 86.4 42.0 L 86.4 45.9 L 91.1 45.9 L 91.1 42.0 L 92.3 42.0 L 92.3 51.1 L 91.1 51.1 L 91.1 46.9 L 86.4 46.9 L 86.4 51.1 L 85.2 51.1 L 85.2 42.0 \" fill=\"#0000FF\"/>\n",
       "<path class=\"atom-22\" d=\"M 95.6 42.0 L 98.6 46.8 Q 98.9 47.3, 99.4 48.2 Q 99.8 49.0, 99.9 49.1 L 99.9 42.0 L 101.1 42.0 L 101.1 51.1 L 99.8 51.1 L 96.6 45.8 Q 96.2 45.2, 95.8 44.5 Q 95.5 43.8, 95.3 43.6 L 95.3 51.1 L 94.1 51.1 L 94.1 42.0 L 95.6 42.0 \" fill=\"#0000FF\"/>\n",
       "<path class=\"atom-23\" d=\"M 127.9 41.8 L 130.9 46.6 Q 131.2 47.1, 131.7 48.0 Q 132.2 48.9, 132.2 48.9 L 132.2 41.8 L 133.4 41.8 L 133.4 50.9 L 132.2 50.9 L 128.9 45.6 Q 128.6 45.0, 128.2 44.3 Q 127.8 43.6, 127.7 43.4 L 127.7 50.9 L 126.5 50.9 L 126.5 41.8 L 127.9 41.8 \" fill=\"#0000FF\"/>\n",
       "<path class=\"atom-23\" d=\"M 135.2 41.8 L 136.4 41.8 L 136.4 45.7 L 141.1 45.7 L 141.1 41.8 L 142.3 41.8 L 142.3 50.9 L 141.1 50.9 L 141.1 46.7 L 136.4 46.7 L 136.4 50.9 L 135.2 50.9 L 135.2 41.8 \" fill=\"#0000FF\"/>\n",
       "</svg>"
      ],
      "text/plain": [
       "<IPython.core.display.SVG object>"
      ]
     },
     "metadata": {},
     "output_type": "display_data"
    },
    {
     "data": {
      "text/plain": [
       "{0: ('BAD', 'protein clash'),\n",
       " 1: ('GOOD', 'fragment space'),\n",
       " 2: ('GOOD', 'fragment space'),\n",
       " 3: ('GOOD', 'fragment space'),\n",
       " 4: ('GOOD', 'fragment space'),\n",
       " 5: ('GOOD', 'fragment space'),\n",
       " 6: ('GOOD', 'fragment space'),\n",
       " 7: ('GOOD', 'pocket', 'P1'),\n",
       " 8: ('GOOD', 'fragment space'),\n",
       " 9: ('GOOD', 'pocket', 'P1 prime'),\n",
       " 10: ('BAD', 'protein clash'),\n",
       " 11: ('BAD', 'protein clash'),\n",
       " 12: ('GOOD', 'pocket', 'P1'),\n",
       " 13: ('GOOD', 'pocket', 'P1'),\n",
       " 14: ('GOOD', 'fragment space'),\n",
       " 15: ('GOOD', 'fragment space'),\n",
       " 16: ('GOOD', 'fragment space'),\n",
       " 17: ('GOOD', 'fragment space'),\n",
       " 18: ('GOOD', 'fragment space'),\n",
       " 19: ('GOOD', 'pocket', 'P1'),\n",
       " 20: ('GOOD', 'fragment space'),\n",
       " 21: ('GOOD', 'fragment space'),\n",
       " 22: ('GOOD', 'fragment space'),\n",
       " 23: ('GOOD', 'fragment space')}"
      ]
     },
     "execution_count": 32,
     "metadata": {},
     "output_type": "execute_result"
    }
   ],
   "source": [
    "butcher.chop(mol, draw='2d')"
   ]
  },
  {
   "cell_type": "code",
   "execution_count": null,
   "id": "93924a19-5e57-49c0-9457-36fa5b09a643",
   "metadata": {
    "scrolled": true
   },
   "outputs": [],
   "source": [
    "butcher.chop(mol, draw='3d')"
   ]
  },
  {
   "cell_type": "code",
   "execution_count": 22,
   "id": "5c6720db-8cad-4abe-a208-147784815c95",
   "metadata": {},
   "outputs": [
    {
     "name": "stdout",
     "output_type": "stream",
     "text": [
      "Generating fragment bolus mesh...\u001b[0m                       \n",
      "Generating protein mesh...\u001b[0m                              \n",
      "\u001b[1;33m[Open3D WARNING] Geometry Fragment Bolus_inspect has already been added to scene graph.\u001b[0;m\n",
      "\u001b[1;33m[Open3D WARNING] Geometry test_data/hits/A71EV2A-x0310_0A_bound_inspect has already been added to scene graph.\u001b[0;m\n",
      "\u001b[1;33m[Open3D WARNING] Geometry Fragment Bolus_inspect has already been added to scene graph.\u001b[0;m\n",
      "\u001b[1;33m[Open3D WARNING] Geometry test_data/hits/A71EV2A-x0310_0A_bound_inspect has already been added to scene graph.\u001b[0;m\n"
     ]
    }
   ],
   "source": [
    "butcher._render_meshes()"
   ]
  },
  {
   "cell_type": "code",
   "execution_count": 54,
   "id": "e710c8a9-7ff4-431e-aee8-32283d84d183",
   "metadata": {},
   "outputs": [
    {
     "name": "stdout",
     "output_type": "stream",
     "text": [
      "\u001b[36;4msubtracting\u001b[0m\u001b[0m\u001b[32;1m OK\u001b[0m                    \n"
     ]
    }
   ],
   "source": [
    "mout.finish()"
   ]
  },
  {
   "cell_type": "code",
   "execution_count": null,
   "id": "069e7351-79cb-416d-bf5e-4c9542ba2a91",
   "metadata": {},
   "outputs": [],
   "source": []
  }
 ],
 "metadata": {
  "kernelspec": {
   "display_name": "Python 3 (ipykernel)",
   "language": "python",
   "name": "python3"
  },
  "language_info": {
   "codemirror_mode": {
    "name": "ipython",
    "version": 3
   },
   "file_extension": ".py",
   "mimetype": "text/x-python",
   "name": "python",
   "nbconvert_exporter": "python",
   "pygments_lexer": "ipython3",
   "version": "3.10.12"
  }
 },
 "nbformat": 4,
 "nbformat_minor": 5
}
